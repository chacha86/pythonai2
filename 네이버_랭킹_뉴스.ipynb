{
  "nbformat": 4,
  "nbformat_minor": 0,
  "metadata": {
    "colab": {
      "provenance": [],
      "authorship_tag": "ABX9TyMxF28OGZQUTyfq6qbwKm3m",
      "include_colab_link": true
    },
    "kernelspec": {
      "name": "python3",
      "display_name": "Python 3"
    },
    "language_info": {
      "name": "python"
    }
  },
  "cells": [
    {
      "cell_type": "markdown",
      "metadata": {
        "id": "view-in-github",
        "colab_type": "text"
      },
      "source": [
        "<a href=\"https://colab.research.google.com/github/chacha86/pythonai2/blob/main/%EB%84%A4%EC%9D%B4%EB%B2%84_%EB%9E%AD%ED%82%B9_%EB%89%B4%EC%8A%A4.ipynb\" target=\"_parent\"><img src=\"https://colab.research.google.com/assets/colab-badge.svg\" alt=\"Open In Colab\"/></a>"
      ]
    },
    {
      "cell_type": "code",
      "execution_count": null,
      "metadata": {
        "id": "siEZ5KeszOMb"
      },
      "outputs": [],
      "source": [
        "# 1. 언론사 이름과 링크 가져오기"
      ]
    },
    {
      "cell_type": "code",
      "source": [
        "# 2. url을 넘기면 해당 url 페이지의 html을 파싱해서 soup를 만들어주는 함수"
      ],
      "metadata": {
        "id": "rrPhoif2zXy7"
      },
      "execution_count": null,
      "outputs": []
    },
    {
      "cell_type": "code",
      "source": [
        "# 3. page를 넘겨주면 해당 page에서 랭킹 뉴스 20개를 가져오는 함수"
      ],
      "metadata": {
        "id": "MJmIUnenzdsC"
      },
      "execution_count": null,
      "outputs": []
    },
    {
      "cell_type": "code",
      "source": [
        "# 4. 뉴스 그룹을 넘기면 해당 그룹의 뉴스를 모두 가져와 합쳐주는 함수"
      ],
      "metadata": {
        "id": "Cak8ONAXzgqa"
      },
      "execution_count": null,
      "outputs": []
    },
    {
      "cell_type": "code",
      "source": [
        "# 5. 파이썬 오브젝트를 json으로 저장해주는 함수"
      ],
      "metadata": {
        "id": "khcK-P4Wzk6_"
      },
      "execution_count": null,
      "outputs": []
    },
    {
      "cell_type": "code",
      "source": [
        "# 6. json 파일을 파이썬 오브젝트로 불러오는 함수"
      ],
      "metadata": {
        "id": "s7Gfl0aAzrQ4"
      },
      "execution_count": null,
      "outputs": []
    },
    {
      "cell_type": "code",
      "source": [
        "# 7. 언론사와 n을 넘기면 해당 언론사의 랭킹뉴스를 n일치 가져오기"
      ],
      "metadata": {
        "id": "RXFYtW__zwsQ"
      },
      "execution_count": null,
      "outputs": []
    },
    {
      "cell_type": "code",
      "source": [
        "\n",
        "# 실습 -> 3개의 언론사 (SBS, MBC, KBS)의 랭킹 뉴스를 최근 5일치 가져와서 각각 저장.\n",
        "# 언론사별로 폴더를 나눠서 저장"
      ],
      "metadata": {
        "id": "ppPnO4Xe0Dyr"
      },
      "execution_count": null,
      "outputs": []
    }
  ]
}