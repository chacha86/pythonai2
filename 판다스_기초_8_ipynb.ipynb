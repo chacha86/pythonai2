{
  "nbformat": 4,
  "nbformat_minor": 0,
  "metadata": {
    "colab": {
      "provenance": [],
      "authorship_tag": "ABX9TyMYbjbLoR6cDi2RCrgeTBwX",
      "include_colab_link": true
    },
    "kernelspec": {
      "name": "python3",
      "display_name": "Python 3"
    },
    "language_info": {
      "name": "python"
    }
  },
  "cells": [
    {
      "cell_type": "markdown",
      "metadata": {
        "id": "view-in-github",
        "colab_type": "text"
      },
      "source": [
        "<a href=\"https://colab.research.google.com/github/chacha86/pythonai2/blob/main/%ED%8C%90%EB%8B%A4%EC%8A%A4_%EA%B8%B0%EC%B4%88_8_ipynb.ipynb\" target=\"_parent\"><img src=\"https://colab.research.google.com/assets/colab-badge.svg\" alt=\"Open In Colab\"/></a>"
      ]
    },
    {
      "cell_type": "code",
      "execution_count": 4,
      "metadata": {
        "id": "ruGxKhnghrOf"
      },
      "outputs": [],
      "source": [
        "import pandas as pd\n",
        "\n",
        "df1 = pd.read_excel('/content/거래내역조회 (3).xlsx', skiprows=3)\n",
        "df2 = pd.read_excel('/content/students (2).xlsx')"
      ]
    },
    {
      "cell_type": "code",
      "source": [
        "# 13. map, apply, applymap을 이용한 반복 연산\n",
        "\n",
        "li = [1,2,3,4]\n",
        "\n",
        "for num in li :\n",
        "  print(num)\n",
        "\n",
        "def print_num(x) :\n",
        "  return x + 1\n",
        "\n",
        "list(map(print_num, li))\n"
      ],
      "metadata": {
        "id": "Iey5bCLxjQ_N"
      },
      "execution_count": null,
      "outputs": []
    },
    {
      "cell_type": "code",
      "source": [
        "## map - 시리즈에 적용\n",
        "### df1['No.'].astype('str') + '번'\n",
        "\n",
        "### map 활용1 - 각 값들에 일괄적 연산 적용\n",
        "def add_bun(no) :\n",
        "  return str(no) + '번'\n",
        "\n",
        "# list1 = []\n",
        "# for no in df1['No.'] :\n",
        "#   list1.append(add_bun(no))\n",
        "\n",
        "df1['No.'].map(add_bun)\n",
        "\n",
        "\n",
        "### map 활용2 - 경우의 수\n",
        "### 찾으신금액 -> 100000만 미만 : 적음, 100000~200000 사이면: 보통, 200000이상 : 많음\n",
        "#### map 안쓴 버전\n",
        "df1['소비기준'] = ''\n",
        "df1.loc[df1['찾으신금액'] < 100000, '소비기준'] = '적음'\n",
        "df1.loc[(df1['찾으신금액'] >= 100000) & (df1['찾으신금액'] < 200000), '소비기준'] = '보통'\n",
        "df1.loc[df1['찾으신금액'] >= 200000, '소비기준'] = '많음'\n",
        "\n",
        "#### map 사용 버전\n",
        "\n",
        "df1['찾으신금액']\n",
        "\n",
        "def classify_price(price) :\n",
        "  if price < 100000:\n",
        "    return \"적음\"\n",
        "  elif price < 200000:\n",
        "    return \"보통\"\n",
        "  else :\n",
        "    return \"많음\"\n",
        "\n",
        "df1['소비기준2'] = df1['찾으신금액'].map(classify_price)\n",
        "df1\n"
      ],
      "metadata": {
        "id": "c4UYhHrTkhiD"
      },
      "execution_count": null,
      "outputs": []
    },
    {
      "cell_type": "code",
      "source": [],
      "metadata": {
        "id": "STuFFH1Ch9Q5"
      },
      "execution_count": null,
      "outputs": []
    }
  ]
}