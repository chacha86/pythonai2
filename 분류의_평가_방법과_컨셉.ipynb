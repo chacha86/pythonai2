{
  "nbformat": 4,
  "nbformat_minor": 0,
  "metadata": {
    "colab": {
      "provenance": [],
      "authorship_tag": "ABX9TyMAUqnYpj50R72GHS+1WN11",
      "include_colab_link": true
    },
    "kernelspec": {
      "name": "python3",
      "display_name": "Python 3"
    },
    "language_info": {
      "name": "python"
    }
  },
  "cells": [
    {
      "cell_type": "markdown",
      "metadata": {
        "id": "view-in-github",
        "colab_type": "text"
      },
      "source": [
        "<a href=\"https://colab.research.google.com/github/chacha86/pythonai2/blob/main/%EB%B6%84%EB%A5%98%EC%9D%98_%ED%8F%89%EA%B0%80_%EB%B0%A9%EB%B2%95%EA%B3%BC_%EC%BB%A8%EC%85%89.ipynb\" target=\"_parent\"><img src=\"https://colab.research.google.com/assets/colab-badge.svg\" alt=\"Open In Colab\"/></a>"
      ]
    },
    {
      "cell_type": "code",
      "execution_count": 99,
      "metadata": {
        "id": "yNFgbq1uxtVB"
      },
      "outputs": [],
      "source": [
        "import pandas as pd\n",
        "\n",
        "\n",
        "fish = pd.read_csv('/content/Fish.csv')\n",
        "\n"
      ]
    },
    {
      "cell_type": "code",
      "source": [
        "import seaborn as sns\n",
        "\n",
        "sns.scatterplot(data=fish, x='Length1', y='Weight', hue='Species')\n",
        "\n"
      ],
      "metadata": {
        "id": "ZoGUBwdqEYda"
      },
      "execution_count": null,
      "outputs": []
    },
    {
      "cell_type": "code",
      "source": [
        "bream_smelt = fish.loc[(fish['Species'] == 'Bream') | (fish['Species'] == 'Perch')]\n",
        "train = bream_smelt.drop('Species', axis=1)\n",
        "target = bream_smelt['Species']"
      ],
      "metadata": {
        "id": "5wfp2Y9k1ROV"
      },
      "execution_count": 100,
      "outputs": []
    },
    {
      "cell_type": "code",
      "source": [
        "from sklearn.model_selection import train_test_split\n",
        "trd, tsd, trt, tst = train_test_split(train, target, train_size=0.8, random_state=42)"
      ],
      "metadata": {
        "id": "1SJ2NREd1TLa"
      },
      "execution_count": 104,
      "outputs": []
    },
    {
      "cell_type": "code",
      "source": [
        "from sklearn.linear_model import LogisticRegression\n",
        "\n",
        "lr = LogisticRegression(max_iter=10000)\n",
        "lr.fit(trd, trt)\n",
        "lr.score(trd, trt), lr.score(tsd, tst)\n",
        "\n",
        "## 회귀 -> 평가 지표(mae, mse, r2)\n",
        "\n",
        "## 로지스틱 회귀의 score는 어떤 지표? mae, mse, r2 X\n",
        "\n",
        "## 로지스틱 회귀는 분류. 분류의 평가지표는 회귀와 다르다."
      ],
      "metadata": {
        "colab": {
          "base_uri": "https://localhost:8080/"
        },
        "id": "Oylwowec1U0_",
        "outputId": "914faaef-95f9-43ee-e844-d0c4243ba9e8"
      },
      "execution_count": 105,
      "outputs": [
        {
          "output_type": "execute_result",
          "data": {
            "text/plain": [
              "(1.0, 1.0)"
            ]
          },
          "metadata": {},
          "execution_count": 105
        }
      ]
    },
    {
      "cell_type": "code",
      "source": [
        "# 분류 평가 지표\n",
        "## 1. 정확도(accuracy) -> 전체 클래스 중 몇개를 맞췄는가?\n",
        "\n",
        "trt2 = trt.sort_values()[:32] # trt에서 좀더 자른 버전\n",
        "# trd2 = trd[trt2.index]\n",
        "trd2 = trd.loc[trt2.index]\n",
        "\n",
        "\n"
      ],
      "metadata": {
        "id": "-WxWdnVl2YPi"
      },
      "execution_count": 92,
      "outputs": []
    },
    {
      "cell_type": "code",
      "source": [],
      "metadata": {
        "id": "aT-GdOiB49jq"
      },
      "execution_count": null,
      "outputs": []
    },
    {
      "cell_type": "code",
      "source": [
        "def predict_bream(trd) :\n",
        "  result = []\n",
        "\n",
        "  for data in trd.values :\n",
        "      result.append('Bream')\n",
        "\n",
        "  return result\n",
        "\n",
        "\n",
        "pred = predict_bream(trd2)\n",
        "\n",
        "\n",
        "matched = 0\n",
        "\n",
        "for p, t in zip(pred, trt2) :\n",
        "  print(p, t)\n",
        "\n",
        "  if p == t :\n",
        "    matched += 1\n",
        "\n",
        "matched / len(pred)\n"
      ],
      "metadata": {
        "id": "dwS6c1gv3oZ-"
      },
      "execution_count": null,
      "outputs": []
    },
    {
      "cell_type": "code",
      "source": [
        "from sklearn.metrics import mean_absolute_error, mean_squared_error, r2_score\n",
        "from sklearn.metrics import accuracy_score, precision_score, recall_score, confusion_matrix\n",
        "\n",
        "## 정확도\n",
        "print(accuracy_score(trt2, pred))\n",
        "## 정밀도\n",
        "print(precision_score(trt2, pred, pos_label='Smelt'))\n",
        "## 재현율\n",
        "print(recall_score(trt2, pred, pos_label='Smelt'))"
      ],
      "metadata": {
        "id": "RgMYvsAS7jIT"
      },
      "execution_count": null,
      "outputs": []
    },
    {
      "cell_type": "code",
      "source": [
        "## TN => [0, 0]\n",
        "## FP => [0, 1]\n",
        "## FN => [1, 0]\n",
        "## TP => [1, 1]\n",
        "cmat = confusion_matrix(trt2, pred)\n",
        "\n",
        "TN = cmat[0, 0]\n",
        "FP = cmat[0, 1]\n",
        "FN = cmat[1, 0]\n",
        "TP = cmat[1, 1]\n",
        "\n",
        "## 정확도\n",
        "(TN + TP) / (TN + FP + FN + TP)\n",
        "\n",
        "## 재현율 -> 진짜 양성 중 양성이라고 맞춘 것의 개수(죄다 양성이라고 해버리면 100%가 나오게 됨.)\n",
        "TP / (TP + FN)\n",
        "\n",
        "## 정밀도 -> 모델이 양성이라고 한 것 중 실제로 맞는 것의 개수(양성을 음성이라고 한것은 관심 X)\n",
        "TP / (TP + FP)\n",
        "\n",
        "## 재현율과 정밀도가 동시에 높으면 베스트\n",
        "## 하나가 높게 나오고, 하나가 낮게 나오는 경우 -> 낮게 나온 걸 올릴 수 없음\n",
        "### 정밀도가 중요한 업무가 있고,  ->  실수를 해도 용납 가능하고 최대한 잘 맞추는 게 중요.(스팸 메일, 날씨 예보)\n",
        "### 재현율이 중요한 업무가 있다.  ->  실수를 용납할 수 없는 업무 (의료, 사기)\n",
        "## 둘 다 낮게 나오면 모델 성능 안좋음\n",
        "\n",
        "## 정밀도, 재현율 통합해서 보는 지표 -> F1 - Score (조화평균)\n"
      ],
      "metadata": {
        "id": "fAA0kYNrAQ_r"
      },
      "execution_count": null,
      "outputs": []
    },
    {
      "cell_type": "code",
      "source": [
        "lr.fit(trd, trt)\n",
        "lr.score(trd, trt)\n",
        "\n",
        "pred2 = lr.predict(tsd)\n",
        "\n",
        "print(accuracy_score(tst, pred2))\n",
        "print(precision_score(tst, pred2, pos_label='Bream'))\n",
        "print(recall_score(tst, pred2, pos_label='Bream'))\n",
        "\n"
      ],
      "metadata": {
        "id": "UrC0KdIvCmn2"
      },
      "execution_count": null,
      "outputs": []
    },
    {
      "cell_type": "code",
      "source": [],
      "metadata": {
        "id": "Rb4BjGOcESRz"
      },
      "execution_count": null,
      "outputs": []
    },
    {
      "cell_type": "code",
      "source": [
        "##"
      ],
      "metadata": {
        "id": "yLxF5AsxBbfc"
      },
      "execution_count": null,
      "outputs": []
    }
  ]
}