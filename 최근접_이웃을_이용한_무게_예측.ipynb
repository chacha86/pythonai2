{
  "nbformat": 4,
  "nbformat_minor": 0,
  "metadata": {
    "colab": {
      "provenance": [],
      "authorship_tag": "ABX9TyOtQ1WFUWe5E1DyiU8+cdR7",
      "include_colab_link": true
    },
    "kernelspec": {
      "name": "python3",
      "display_name": "Python 3"
    },
    "language_info": {
      "name": "python"
    }
  },
  "cells": [
    {
      "cell_type": "markdown",
      "metadata": {
        "id": "view-in-github",
        "colab_type": "text"
      },
      "source": [
        "<a href=\"https://colab.research.google.com/github/chacha86/pythonai2/blob/main/%EC%B5%9C%EA%B7%BC%EC%A0%91_%EC%9D%B4%EC%9B%83%EC%9D%84_%EC%9D%B4%EC%9A%A9%ED%95%9C_%EB%AC%B4%EA%B2%8C_%EC%98%88%EC%B8%A1.ipynb\" target=\"_parent\"><img src=\"https://colab.research.google.com/assets/colab-badge.svg\" alt=\"Open In Colab\"/></a>"
      ]
    },
    {
      "cell_type": "code",
      "execution_count": null,
      "metadata": {
        "id": "fpn_53L9yMYs"
      },
      "outputs": [],
      "source": [
        "# 물고기의 길이를 이용해서 무게를 예측하기\n"
      ]
    },
    {
      "cell_type": "code",
      "source": [
        "# 1. 데이터 준비"
      ],
      "metadata": {
        "id": "sibYSZO9yT8M"
      },
      "execution_count": null,
      "outputs": []
    },
    {
      "cell_type": "code",
      "source": [
        "# 2. 탐색적 분석\n",
        "## 가장 데이터가 많은 어종"
      ],
      "metadata": {
        "id": "UxQKJZL8yVcu"
      },
      "execution_count": null,
      "outputs": []
    },
    {
      "cell_type": "code",
      "source": [
        "# 3. 데이터 처리\n",
        "## 필요한데이터만 뽑아주세요.\n",
        "## 가장 많은 어종의 길이, 무게\n",
        "## 학습용 데이터와 테스트용 데이터로 나눠주세요.\n"
      ],
      "metadata": {
        "id": "gZUbIiDyyYtM"
      },
      "execution_count": null,
      "outputs": []
    },
    {
      "cell_type": "code",
      "source": [
        "# 4. 학습\n",
        "## 수치 예측이기 때문에 회귀 모델을 사용해야 합니다.\n",
        "## 최근접 이웃 회귀 모델을 이용해 학습을 진행해주세요.\n",
        "## 최근접 이웃 회귀 모델은 sklearn.neighbors 패키지 안에 KNeighborsRegressor라는 이름으로 제공됩니다.\n",
        "\n",
        "# 5. 평가\n",
        "## 테스트용 데이터를 이용해서 모델을 평가해주세요.\n",
        "\n"
      ],
      "metadata": {
        "id": "zNgixCPIyy7z"
      },
      "execution_count": null,
      "outputs": []
    }
  ]
}