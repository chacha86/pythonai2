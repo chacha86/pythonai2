{
  "nbformat": 4,
  "nbformat_minor": 0,
  "metadata": {
    "colab": {
      "provenance": [],
      "authorship_tag": "ABX9TyMa2qi8HSeTE15wAU5uKZQv",
      "include_colab_link": true
    },
    "kernelspec": {
      "name": "python3",
      "display_name": "Python 3"
    },
    "language_info": {
      "name": "python"
    }
  },
  "cells": [
    {
      "cell_type": "markdown",
      "metadata": {
        "id": "view-in-github",
        "colab_type": "text"
      },
      "source": [
        "<a href=\"https://colab.research.google.com/github/chacha86/pythonai2/blob/main/%EB%94%A5%EB%9F%AC%EB%8B%9D_%EA%B0%9C%EC%9A%94.ipynb\" target=\"_parent\"><img src=\"https://colab.research.google.com/assets/colab-badge.svg\" alt=\"Open In Colab\"/></a>"
      ]
    },
    {
      "cell_type": "code",
      "execution_count": 23,
      "metadata": {
        "id": "_NExn1A8hU61"
      },
      "outputs": [],
      "source": [
        "## 딥러닝(로지스틱 회귀 응용 버전) -> 머신러닝\n",
        "## 비정형 데이터 -> 딥러닝이 강함\n",
        "### 텍스트, 이미지, 음성\n",
        "#### 엄청난 수의 경우의 수를 따질 수 있음.\n",
        "### 신경망 -> 인간의 뇌를 따라함.\n",
        "\n",
        "import pandas as pd\n",
        "\n",
        "fish = pd.read_csv('/content/Fish.csv')\n"
      ]
    },
    {
      "cell_type": "code",
      "source": [
        "## 퍼셉트론(뉴런, 유닛)\n",
        "## 가중치, 편향\n",
        "## 활성화 함수\n",
        "## 손실함수\n",
        "## 경사하강법\n",
        "\n",
        "## 일차함수 그래프, 행렬 연산, 미적분 개념\n"
      ],
      "metadata": {
        "id": "A-WbEMAeiZY4"
      },
      "execution_count": null,
      "outputs": []
    },
    {
      "cell_type": "code",
      "source": [
        "# 퍼셉트론(뉴런) : 입력이 있고 출력이 있다. 활성 여부를 따짐(활성됨(1), 비활성됨(0))\n",
        "\n",
        "## 퍼셉트론 만들기 -> 논리게이트\n",
        "## 1.1 AND\n",
        "### x1, x2 -> 입력(특성)\n",
        "def AND(x1, x2):\n",
        "  w1, w2, b = 0.2, 0.3, 0.3\n",
        "\n",
        "  if x1 * w1 + x2 * w2  > b :\n",
        "    return 1\n",
        "  return 0\n",
        "\n",
        "### AND 퍼셉트론 입력값이 0, 1 -> 1, 1 두개 들어올 때만 활성, 그외에는 비활성\n",
        "print(AND(0, 0))\n",
        "print(AND(0, 1))\n",
        "print(AND(1, 0))\n",
        "print(AND(1, 1))\n",
        "\n",
        "## 통증 관련 뉴런\n",
        "### 통증의 세기가 10 -> 통증 뉴런이 편향이 11인 사람. 토증 뉴런 편향이 1인 사람.\n",
        "\n",
        "## 1.2 OR\n",
        "\n",
        "def OR(x1, x2) :\n",
        "  w1, w2, b = 0.5, 0.4, 0.3\n",
        "\n",
        "  if x1 * w1 + x2 * w2  > b :\n",
        "    return 1\n",
        "  return 0\n",
        "\n",
        "print(OR(0,0))\n",
        "print(OR(1,0))\n",
        "print(OR(0,1))\n",
        "print(OR(1,1))\n",
        "\n",
        "## 1.3 NAND\n",
        "def NAND(x1, x2) :\n",
        "  w1, w2, b = -0.3, -0.6, -0.8\n",
        "\n",
        "  if x1 * w1 + x2 * w2  > b :\n",
        "    return 1\n",
        "  return 0\n",
        "\n",
        "print(NAND(0,0)) # 1\n",
        "print(NAND(1,0)) # 1\n",
        "print(NAND(0,1)) # 1\n",
        "print(NAND(1,1)) # 0"
      ],
      "metadata": {
        "id": "NaQfmvHKko2c"
      },
      "execution_count": null,
      "outputs": []
    },
    {
      "cell_type": "code",
      "source": [
        "## 하나의 퍼셉트론으로 해결 불가 (비선형성)\n",
        "\n",
        "## 멀티 레이어 퍼셉트론(mlp)\n",
        "def XOR(x1, x2) :\n",
        "  r1 = OR(x1, x2)\n",
        "  r2 = NAND(x1, x2)\n",
        "  r3 = AND(r1, r2)\n",
        "\n",
        "  return r3\n",
        "\n",
        "print(XOR(0,0)) # 0\n",
        "print(XOR(1,0)) # 1\n",
        "print(XOR(0,1)) # 1\n",
        "print(XOR(1,1)) # 0"
      ],
      "metadata": {
        "id": "cm2kU0Y-wsYx"
      },
      "execution_count": null,
      "outputs": []
    },
    {
      "cell_type": "code",
      "source": [
        "## 행렬 덧셈 -> 같은 모양의 행렬만 덧셈,뺄셈 가능, 같은 위치의 원소끼리 연산\n",
        "## 행렬 곱셈 -> M X N 행렬과 O X P 행렬의 곱셈은 N과 O가 같아야 가능하고, 곱셈 결과는 M X P 모양으로 나온다.\n",
        "\n",
        "## 딥러닝에서 행렬 곱의 의미 -> 각 데이터에 대한 회귀식 만들기\n",
        "\n",
        "## 입력값 2개, 뉴런(퍼셉트론) 2개, 출력이 1개인 신경망 만들기\n",
        "\n",
        "def NAND2(x1, x2) :\n",
        "  w1, w2, b = -0.4, -0.7, -0.9\n",
        "\n",
        "  if x1 * w1 + x2 * w2  > b :\n",
        "    return 1\n",
        "  return 0\n",
        "\n",
        "def my_network(x1, x2):\n",
        "  r1 = NAND(x1, x2)\n",
        "  r2 = NAND2(x1, x2)\n",
        "  r3 = NAND2(r1, r2)\n",
        "\n",
        "  return r3\n",
        "\n",
        "my_network(1, 1)\n",
        "\n",
        "\n",
        "\n",
        "## 활성화함수를 사용해서 출력의 단순함을 피한다. -> 지금 논리게이트에서 사용하는 활성화 함수 ==> 계단 함수\n",
        "## 시그모이드 -> 출력값이 다양. 복잡도 표현 가능. 미분 가능\n",
        "## 하이퍼볼릭 탄젠트 ->\n",
        "## ReLU\n",
        "\n",
        "## 딥러닝 -> 물고기 분류, 이미지 분류, 텍스트분류\n"
      ],
      "metadata": {
        "id": "NgXLle5bn7hv"
      },
      "execution_count": null,
      "outputs": []
    },
    {
      "cell_type": "code",
      "source": [
        "# 계단함수 -> 어떤 임계값 초과면 1, 이하면 0\n",
        "\n",
        "\n",
        "### 손실함수\n",
        "### (실제값 - 예측값)^2\n",
        "### 0.1 실제 정답1,  예측 0.2 ---> 오차 0.8 (손실이 크다)\n",
        "### 0.5 실제 정답1,  예측 0.7 ---> 오차 0.3 (손실이 작다)\n",
        "\n",
        "### 손실함수 -> f(w) = c"
      ],
      "metadata": {
        "id": "JvjGzh2efGpI"
      },
      "execution_count": null,
      "outputs": []
    },
    {
      "cell_type": "code",
      "source": [
        "import numpy as np\n",
        "\n",
        "def sigmoid(x):\n",
        "    return 1 / (1 + np.exp(-x))"
      ],
      "metadata": {
        "id": "k5oeVUfu4e8e"
      },
      "execution_count": 2,
      "outputs": []
    },
    {
      "cell_type": "code",
      "source": [
        "import matplotlib.pyplot as plt\n",
        "x = np.array([-1.0, 1.0, 2.0])\n",
        "y = sigmoid(x)\n",
        "print(y)\n",
        "\n",
        "x = np.arange(-5.0, 5.0, 0.1)\n",
        "y = sigmoid(x)\n",
        "plt.plot(x, y)\n",
        "plt.ylim(-0.1, 1.1)\n",
        "plt.show()"
      ],
      "metadata": {
        "id": "wjDhuiHLlXbh"
      },
      "execution_count": null,
      "outputs": []
    },
    {
      "cell_type": "code",
      "source": [
        "def ReLU(x):\n",
        "    return np.maximum(0, x)\n",
        "\n",
        "\n",
        "x = np.array([-1.0, 1.0, 2.0])\n",
        "print(ReLU(x))\n",
        "\n",
        "x = np.arange(-5.0, 5.0, 0.1)\n",
        "y = ReLU(x)\n",
        "plt.plot(x, y)\n",
        "plt.ylim(-0.1, 5.1)\n",
        "plt.show()"
      ],
      "metadata": {
        "id": "xvA--gyHlh1W"
      },
      "execution_count": null,
      "outputs": []
    },
    {
      "cell_type": "code",
      "source": [
        "def tanh(x):\n",
        "    return np.tanh(x)\n",
        "\n",
        "x = np.arange(-5.0, 5.0, 0.1)\n",
        "y = tanh(x)\n",
        "plt.plot(x, y)\n",
        "plt.show()\n"
      ],
      "metadata": {
        "id": "8KUbJCvGlrU-"
      },
      "execution_count": null,
      "outputs": []
    },
    {
      "cell_type": "code",
      "source": [
        "\n",
        "\n",
        "## 입력2, 뉴런2, 출력1\n",
        "\n",
        "## 순전파(예측)\n",
        "def forward(x) :\n",
        "  input = 2\n",
        "  hidden = 2\n",
        "  output = 1\n",
        "\n",
        "  w1 = np.zeros([input, hidden])\n",
        "  b1 = np.zeros(hidden)\n",
        "\n",
        "  w2 = np.zeros([hidden, output])\n",
        "  b2 = np.zeros(output)\n",
        "\n",
        "  o1 = np.dot(x, w1) + b1\n",
        "  o2 = np.dot(o1, w2) + b2\n",
        "\n",
        "  result = sigmoid(o2)\n",
        "\n",
        "  return result\n",
        "\n"
      ],
      "metadata": {
        "id": "KtOLn9-ul8Gw"
      },
      "execution_count": 41,
      "outputs": []
    },
    {
      "cell_type": "code",
      "source": [
        "## 파라미터 조정\n",
        "### 손실함수 ->\n",
        "\n",
        "def binary_cross_entropy(y_true, y_pred):\n",
        "    # 손실 값을 안정적으로 계산하기 위해 예측 값을 클리핑합니다.\n",
        "    epsilon = 1e-15\n",
        "    y_pred = np.clip(y_pred, epsilon, 1.0 - epsilon)\n",
        "    return -np.mean(y_true * np.log(y_pred) + (1 - y_true) * np.log(1 - y_pred))"
      ],
      "metadata": {
        "id": "tvPoABQAv8jr"
      },
      "execution_count": 21,
      "outputs": []
    },
    {
      "cell_type": "code",
      "source": [
        "target = fish['Species']\n",
        "train = fish[['Length1', 'Weight']]"
      ],
      "metadata": {
        "id": "s4iQteP2uMmw"
      },
      "execution_count": 28,
      "outputs": []
    },
    {
      "cell_type": "code",
      "source": [
        "target[target == 'Bream'] = 1\n",
        "target[target != 1] = 0"
      ],
      "metadata": {
        "id": "TGIxV1_OyCE4"
      },
      "execution_count": null,
      "outputs": []
    },
    {
      "cell_type": "code",
      "source": [],
      "metadata": {
        "id": "t2hvBZH3yMKi"
      },
      "execution_count": null,
      "outputs": []
    },
    {
      "cell_type": "code",
      "source": [
        "train_sample = train.loc[0]\n",
        "target_sample = target.loc[0]\n",
        "\n",
        "pred = forward(train_sample)"
      ],
      "metadata": {
        "id": "kCIQbkiSx5-f"
      },
      "execution_count": 43,
      "outputs": []
    },
    {
      "cell_type": "code",
      "source": [
        "binary_cross_entropy(target_sample, pred)"
      ],
      "metadata": {
        "id": "QgdarCgIyVsA",
        "outputId": "332b556b-1ef6-4df9-b72a-57fdfd675b5b",
        "colab": {
          "base_uri": "https://localhost:8080/"
        }
      },
      "execution_count": 44,
      "outputs": [
        {
          "output_type": "execute_result",
          "data": {
            "text/plain": [
              "0.6931471805599453"
            ]
          },
          "metadata": {},
          "execution_count": 44
        }
      ]
    },
    {
      "cell_type": "code",
      "source": [
        "preds = []\n",
        "for row in train.values:\n",
        "  pred = forward(train_sample)\n",
        "  preds.append(pred)\n",
        "\n",
        "\n",
        "preds_arr = np.array(preds) # -> 일반 배열을 넘파이 배열\n",
        "flatten_preds = preds_arr.reshape(len(preds_arr)) # 2차원 -> 1차원\n",
        "binary_cross_entropy(target, flatten_preds) # 전체 데이터에 대한 손실값 평균\n",
        "\n",
        "## 손실값을 낮춰야 함.\n",
        "\n",
        "## 예측을 잘해야함\n",
        "\n",
        "## 파라미터를 이용해서 예측\n",
        "\n",
        "### 예측값이 변할 때, 손실값이 얼마나 변하는지 예측값에 대한 손실값 미분\n",
        "### 파라미터가 변할 때, 예측값이 얼마나 변하는지. 파라미터에 대한 예측값의 미분\n",
        "\n",
        "\n",
        "def diff(x, f) :\n",
        "  h = 0.000001\n",
        "  return (f(x + h) - f(x)) / h\n",
        "\n",
        "\n",
        "## 2x^2 -> 4x\n",
        "\n",
        "def my_func(x) :\n",
        "  return 2 * x * x\n",
        "\n",
        "diff(5, my_func)"
      ],
      "metadata": {
        "id": "VWpxHOIxzDRh"
      },
      "execution_count": null,
      "outputs": []
    },
    {
      "cell_type": "code",
      "source": [
        "## 손실값 구할수 있고, 파라미터 값도 가지고 있고, 손실값을 미분해서 나온 값으로 파라미터 조정 ==> 경사하강법"
      ],
      "metadata": {
        "id": "LkBQkg3U_380"
      },
      "execution_count": null,
      "outputs": []
    },
    {
      "cell_type": "code",
      "source": [
        "## 텐서플로, 파이토치"
      ],
      "metadata": {
        "id": "44dtj32c0DNY"
      },
      "execution_count": null,
      "outputs": []
    },
    {
      "cell_type": "code",
      "source": [
        "## 역전파 구현 -> 물고기 예측, 이미지 예측"
      ],
      "metadata": {
        "id": "NTroiKOZz483"
      },
      "execution_count": null,
      "outputs": []
    },
    {
      "cell_type": "code",
      "source": [],
      "metadata": {
        "id": "kBpPvE_tzQhq"
      },
      "execution_count": null,
      "outputs": []
    }
  ]
}