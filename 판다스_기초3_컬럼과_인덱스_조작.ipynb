{
  "nbformat": 4,
  "nbformat_minor": 0,
  "metadata": {
    "colab": {
      "provenance": [],
      "authorship_tag": "ABX9TyMOyw0GyfCJUH5EzEt8UD/3",
      "include_colab_link": true
    },
    "kernelspec": {
      "name": "python3",
      "display_name": "Python 3"
    },
    "language_info": {
      "name": "python"
    }
  },
  "cells": [
    {
      "cell_type": "markdown",
      "metadata": {
        "id": "view-in-github",
        "colab_type": "text"
      },
      "source": [
        "<a href=\"https://colab.research.google.com/github/chacha86/pythonai2/blob/main/%ED%8C%90%EB%8B%A4%EC%8A%A4_%EA%B8%B0%EC%B4%883_%EC%BB%AC%EB%9F%BC%EA%B3%BC_%EC%9D%B8%EB%8D%B1%EC%8A%A4_%EC%A1%B0%EC%9E%91.ipynb\" target=\"_parent\"><img src=\"https://colab.research.google.com/assets/colab-badge.svg\" alt=\"Open In Colab\"/></a>"
      ]
    },
    {
      "cell_type": "code",
      "execution_count": 3,
      "metadata": {
        "id": "G0y6aecAt1SC"
      },
      "outputs": [],
      "source": [
        "import pandas as pd\n",
        "df1 =pd.read_excel('/content/거래내역조회 (3).xlsx', skiprows=3)\n",
        "df2 =pd.read_excel('/content/students (2).xlsx')"
      ]
    },
    {
      "cell_type": "code",
      "source": [
        "# 8. 컬럼 조작하기(조회, 추가, 수정, 삭제)\n",
        "\n",
        "## 8.1 컬럼 정보 얻기(조회)\n",
        "df1.columns # columns 정보\n",
        "df1.columns.values # columns 배열\n",
        "\n",
        "## 8.2 컬럼 추가\n",
        "### 단일값 세팅\n",
        "df1['메모2'] = 'aaa'\n",
        "\n",
        "### 행별 세팅\n",
        "df1[\"메모3\"] = ['1', '2', '3', '4', '5', '6', '7', '8', '9', '10']\n",
        "\n",
        "### 기존 컬럼을 이용해서 새컬럼으로 만듦\n",
        "\n",
        "df1['찾으신금액2'] = df1['찾으신금액'] * 2\n",
        "\n",
        "## 8.3 컬럼 수정\n",
        "### 컬럼값을 얻어와서 직접 바꾸기 -> 사용하기 쉬운데, 원본이 바로 바뀜. (주의)\n",
        "df1_tmp = df1[['No.', '거래일시', '적요', '기재내용', '찾으신금액']]\n",
        "\n",
        "df1_tmp.columns = ['a', 'b', 'c', 'd', 'e']\n",
        "df1_tmp.columns.values[0] = 'No.'\n",
        "\n",
        "\n",
        "### 함수를 이용해서 바꾸기\n",
        "df1_tmp2 = df1[['No.', '거래일시', '적요', '기재내용', '찾으신금액']]\n",
        "df1_tmp2_mod = df1_tmp2.rename(columns={\"No.\" : \"번호\", \"거래일시\" : \"거래날짜\"})\n",
        "\n",
        "### inplace 옵션을 True로 주면 원본에 바로 적용\n",
        "df1_tmp2_mod.rename(columns={\"기재내용\" : \"사용내용\"}, inplace=True)\n",
        "\n",
        "## 8.4 컬럼 삭제\n",
        "### 내가 원하는 컬럼만 재선택\n",
        "df1_tmp3 = df1[df1.columns.values[:-3]]\n",
        "df1_tmp3\n",
        "\n",
        "\n",
        "### 삭제 함수 drop을 이용\n",
        "df1.drop(['메모2', '메모3', '찾으신금액2'], axis=1, inplace=True)\n",
        "\n",
        "\n"
      ],
      "metadata": {
        "id": "q_mu7nyGuFkM"
      },
      "execution_count": null,
      "outputs": []
    },
    {
      "cell_type": "code",
      "source": [
        "# 9. index 조작\n",
        "\n",
        "## 9.1 index 조회\n",
        "## 9.2 index 추가\n",
        "## 9.3 index 수정\n",
        "## 9.4 index 삭제\n"
      ],
      "metadata": {
        "id": "MUMF-kG_0JYh"
      },
      "execution_count": null,
      "outputs": []
    },
    {
      "cell_type": "code",
      "source": [
        "df1_tmp2_mod"
      ],
      "metadata": {
        "id": "NL_bUrBzymYg"
      },
      "execution_count": null,
      "outputs": []
    }
  ]
}