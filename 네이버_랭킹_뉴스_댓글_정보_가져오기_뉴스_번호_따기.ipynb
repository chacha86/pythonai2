{
  "nbformat": 4,
  "nbformat_minor": 0,
  "metadata": {
    "colab": {
      "provenance": [],
      "authorship_tag": "ABX9TyPLTweL/AxINhWS6oZrT5EX",
      "include_colab_link": true
    },
    "kernelspec": {
      "name": "python3",
      "display_name": "Python 3"
    },
    "language_info": {
      "name": "python"
    }
  },
  "cells": [
    {
      "cell_type": "markdown",
      "metadata": {
        "id": "view-in-github",
        "colab_type": "text"
      },
      "source": [
        "<a href=\"https://colab.research.google.com/github/chacha86/pythonai2/blob/main/%EB%84%A4%EC%9D%B4%EB%B2%84_%EB%9E%AD%ED%82%B9_%EB%89%B4%EC%8A%A4_%EB%8C%93%EA%B8%80_%EC%A0%95%EB%B3%B4_%EA%B0%80%EC%A0%B8%EC%98%A4%EA%B8%B0_%EB%89%B4%EC%8A%A4_%EB%B2%88%ED%98%B8_%EB%94%B0%EA%B8%B0.ipynb\" target=\"_parent\"><img src=\"https://colab.research.google.com/assets/colab-badge.svg\" alt=\"Open In Colab\"/></a>"
      ]
    },
    {
      "cell_type": "code",
      "execution_count": null,
      "metadata": {
        "id": "a27JMJ3iLmuW"
      },
      "outputs": [],
      "source": [
        "# 패키지 불러오기\n",
        "import requests\n",
        "import selenium\n",
        "from bs4 import BeautifulSoup\n",
        "import selenium\n",
        "from selenium import webdriver\n",
        "from selenium.webdriver.common.by import By\n",
        "from selenium.webdriver.common.keys import Keys\n",
        "from selenium.webdriver.chrome.service import Service as ChromeService\n",
        "from selenium.webdriver.support.wait import WebDriverWait\n",
        "from selenium.webdriver.support import expected_conditions as EC\n",
        "import time\n",
        "\n",
        "options = webdriver.ChromeOptions()\n",
        "options.add_experimental_option(\"excludeSwitches\", [\"enable-automation\"])\n",
        "options.add_experimental_option(\"useAutomationExtension\", False)\n",
        "options.add_argument('headless')\n",
        "service = ChromeService(executable_path='C:/Users/Administrator/jupyter notebook/chromedriver/chromedriver.exe')\n",
        "driver = webdriver.Chrome(service=service, options=options)\n",
        "\n",
        "# 실습1\n",
        "# 뉴스의 링크를 넘기면 해당 뉴스의 댓글 통계 정보를 딕셔너리로 반환하는 함수 만들기\n",
        "\n",
        "def get_stat_gen(url) :\n",
        "    driver = webdriver.Chrome(service=service, options=options)\n",
        "    driver.get(url)\n",
        "\n",
        "    chart_sex = WebDriverWait(driver, 10).until(\n",
        "        EC.presence_of_element_located((By.CLASS_NAME, \"u_cbox_chart_sex\"))\n",
        "    )\n",
        "#     chart_sex = driver.find_element(By.CLASS_NAME, 'u_cbox_chart_sex')\n",
        "    per_list = chart_sex.find_elements(By.CLASS_NAME, 'u_cbox_chart_per')\n",
        "\n",
        "    dic_keys = ['남자', '여자']\n",
        "    sex_dic = {}\n",
        "\n",
        "    for key, per in zip(dic_keys, per_list) :\n",
        "        sex_dic[key] = per.text\n",
        "\n",
        "    return sex_dic\n",
        "\n",
        "def get_stat_age(url) :\n",
        "\n",
        "    driver = webdriver.Chrome(service=service, options=options)\n",
        "    driver.get(url)\n",
        "    chart_age = WebDriverWait(driver, 10).until(\n",
        "        EC.presence_of_element_located((By.CLASS_NAME, \"u_cbox_chart_age\"))\n",
        "    )\n",
        "    per_list = chart_age.find_elements(By.CLASS_NAME, 'u_cbox_chart_per')\n",
        "\n",
        "    age_keys = ['10대', '20대', '30대', '40대', '50대', '60대']\n",
        "    age_dic = {}\n",
        "\n",
        "    for key, per in zip(age_keys, per_list) :\n",
        "        age_dic[key] = per.text\n",
        "\n",
        "    return age_dic\n",
        "\n",
        "def get_reply_stat(url) :\n",
        "\n",
        "    gen_info = get_stat_gen(url)\n",
        "    age_info = get_stat_age(url)\n",
        "\n",
        "    gen_info.update(age_info)\n",
        "\n",
        "    return gen_info\n",
        "\n",
        "url = 'https://n.news.naver.com/article/025/0003307263?ntype=RANKING'\n",
        "stat_info = get_reply_stat(url)"
      ]
    },
    {
      "cell_type": "code",
      "source": [
        "import news_util as ut\n",
        "\n",
        "sbs = ut.get_journal_by_name('SBS')\n",
        "kbs = ut.get_journal_by_name('KBS')\n",
        "mbc = ut.get_journal_by_name('MBC')\n",
        "\n",
        "journal_list = [sbs, kbs, mbc]\n",
        "\n",
        "for journal in journal_list :\n",
        "    target_link = journal['link'] + '&date=20230907'\n",
        "\n",
        "    page = ut.get_page_by_url(target_link)\n",
        "    ranking_news = ut.get_rankingnews_by_page(page)\n",
        "\n",
        "#     for news in ranking_news :\n",
        "#         stat_info = get_reply_stat(news['link'])\n",
        "\n",
        "# url = 'https://n.news.naver.com/article/214/0001298245?ntype=RANKING'\n",
        "# stat_info =get_reply_stat(url)\n",
        "# print(stat_info)\n",
        "# 실습2\n",
        "# SBS, MBC, KBS 세 언론사의 5일 전 랭킹뉴스 통계 정보를 json 파일로 저장해주세요\n",
        "\n",
        "##\n",
        "url = 'https://n.news.naver.com/article/214/0001298245?ntype=RANKING'\n",
        "\n",
        "## 문제 -> url에서 0001298245만 빼서 변수에 저장하기\n",
        "## 파이썬 문자열 함수 활용"
      ],
      "metadata": {
        "id": "73OFcWuGL6GG"
      },
      "execution_count": null,
      "outputs": []
    }
  ]
}