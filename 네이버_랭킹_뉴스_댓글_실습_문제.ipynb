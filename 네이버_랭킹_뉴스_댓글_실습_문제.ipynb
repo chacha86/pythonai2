{
  "nbformat": 4,
  "nbformat_minor": 0,
  "metadata": {
    "colab": {
      "provenance": [],
      "authorship_tag": "ABX9TyMCbZg5j/jFLB61PS32SvO2",
      "include_colab_link": true
    },
    "kernelspec": {
      "name": "python3",
      "display_name": "Python 3"
    },
    "language_info": {
      "name": "python"
    }
  },
  "cells": [
    {
      "cell_type": "markdown",
      "metadata": {
        "id": "view-in-github",
        "colab_type": "text"
      },
      "source": [
        "<a href=\"https://colab.research.google.com/github/chacha86/pythonai2/blob/main/%EB%84%A4%EC%9D%B4%EB%B2%84_%EB%9E%AD%ED%82%B9_%EB%89%B4%EC%8A%A4_%EB%8C%93%EA%B8%80_%EC%8B%A4%EC%8A%B5_%EB%AC%B8%EC%A0%9C.ipynb\" target=\"_parent\"><img src=\"https://colab.research.google.com/assets/colab-badge.svg\" alt=\"Open In Colab\"/></a>"
      ]
    },
    {
      "cell_type": "code",
      "execution_count": null,
      "metadata": {
        "id": "TymatPp7nQ63"
      },
      "outputs": [],
      "source": [
        "# 실습1\n",
        "# 뉴스의 링크를 넘기면 해당 뉴스의 댓글 통계 정보를 딕셔너리로 반환하는 함수 만들기\n",
        "\n",
        "# {'남자' : '68%', '여자' : '32%', '10대' : '1%', '20대' : '4%', '30대' : '17%',\n",
        "#  '40대' : '45%', '50대' : '26%', '60대' : '8%' }"
      ]
    },
    {
      "cell_type": "code",
      "source": [
        "# 실습2\n",
        "# SBS, MBC, KBS 세 언론사의 모든 랭킹뉴스 통계 정보를 json 파일로 저장해주세요"
      ],
      "metadata": {
        "id": "G-PQG9VYnR1B"
      },
      "execution_count": null,
      "outputs": []
    },
    {
      "cell_type": "code",
      "source": [
        "# 실습3\n",
        "# 각 뉴스의 댓글 수를 스크랩해서 저장해주세요."
      ],
      "metadata": {
        "id": "mzjNFNBrnS7Z"
      },
      "execution_count": null,
      "outputs": []
    },
    {
      "cell_type": "code",
      "source": [
        "# 실습4\n",
        "# 수집한 뉴스데이터를 이용해 다음 문제를 풀어주세요.\n",
        "## 1. 20대가 가장 많이 본(댓글을 많이 작성한) 뉴스\n",
        "\n",
        "## 2. 가장 댓글이 적은 뉴스의 댓글 수와 뉴스 링크, 뉴스 번호\n",
        "\n",
        "## 3. 언론사 번호와 언론사 이름으로 구성된 데이터 프레임을 만들고 merge를 이용해 각 뉴스에 언론사 이름을 붙여주기\n",
        "\n",
        "## 4. 각 언론사별 평균 댓글 수(댓글 수로 내림차순 정렬)\n",
        "\n",
        "## 5. 여성의 댓글수가 가장 많은 언론사\n",
        "\n",
        "## 6. 각 언론사 별 댓글을 많이 작성한 연령대 top3"
      ],
      "metadata": {
        "id": "hE-DrlxHnUDD"
      },
      "execution_count": null,
      "outputs": []
    }
  ]
}