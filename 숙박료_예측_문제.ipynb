{
  "nbformat": 4,
  "nbformat_minor": 0,
  "metadata": {
    "colab": {
      "provenance": [],
      "authorship_tag": "ABX9TyPUvTE1PYTLZHlAMKsnZqHM",
      "include_colab_link": true
    },
    "kernelspec": {
      "name": "python3",
      "display_name": "Python 3"
    },
    "language_info": {
      "name": "python"
    }
  },
  "cells": [
    {
      "cell_type": "markdown",
      "metadata": {
        "id": "view-in-github",
        "colab_type": "text"
      },
      "source": [
        "<a href=\"https://colab.research.google.com/github/chacha86/pythonai2/blob/main/%EC%88%99%EB%B0%95%EB%A3%8C_%EC%98%88%EC%B8%A1_%EB%AC%B8%EC%A0%9C.ipynb\" target=\"_parent\"><img src=\"https://colab.research.google.com/assets/colab-badge.svg\" alt=\"Open In Colab\"/></a>"
      ]
    },
    {
      "cell_type": "code",
      "execution_count": null,
      "metadata": {
        "id": "386VYTuwYc5y"
      },
      "outputs": [],
      "source": [
        "# 데이터 설명\n",
        "# id: 일련번호\n",
        "# name: AirBnB 이름\n",
        "# host_id: 호스트 ID\n",
        "# host_name: 호스트 성명\n",
        "# neighbourhood_group: 지구명\n",
        "# neighbourhood : 지역명\n",
        "# latitude: 위도\n",
        "# longitude: 경도\n",
        "# room_type: 방 타입\n",
        "# price: 가격\n",
        "# minimum_nights: 최소 숙박일수\n",
        "# number_of_reviews: 리뷰 개수\n",
        "# last_review: 최근 리뷰 일자\n",
        "# reviews_per_month: 월 평균 리뷰 수\n",
        "# calculated_host_listings_count:  호스트에게 대여 가능한 에어비앤비의 총 개수\n",
        "# availability_365: 1년 중 가능한 대여일"
      ]
    },
    {
      "cell_type": "code",
      "source": [
        "# 1. 데이터 로드"
      ],
      "metadata": {
        "id": "JvwIvnzOYkBA"
      },
      "execution_count": null,
      "outputs": []
    },
    {
      "cell_type": "code",
      "source": [
        "# 2. 수치형데이터와 price 상관관계"
      ],
      "metadata": {
        "id": "2YITGPoDYloA"
      },
      "execution_count": null,
      "outputs": []
    },
    {
      "cell_type": "code",
      "source": [
        "# 3. 범주형 데이터의 price 상관관계\n",
        "## 범주와 수치와 관계 => 막대, 박스\n",
        "## 수치와 수치 => 산점도, 선"
      ],
      "metadata": {
        "id": "wikZPMD6YsXD"
      },
      "execution_count": null,
      "outputs": []
    },
    {
      "cell_type": "code",
      "source": [
        "# 4. 불필요해 보이는 컬럼 삭제"
      ],
      "metadata": {
        "id": "2kFViV36YwLG"
      },
      "execution_count": null,
      "outputs": []
    },
    {
      "cell_type": "code",
      "source": [
        "# 5.데이터 클리닝\n",
        "## 이상치 제거\n",
        "## 결측치 제거\n",
        "\n"
      ],
      "metadata": {
        "id": "hTsvTnQRY5dU"
      },
      "execution_count": null,
      "outputs": []
    },
    {
      "cell_type": "code",
      "source": [
        "# 6. 데이터 전처리\n",
        "## 범주형 데이터 ont-hot 인코딩\n",
        "## 수치형 데이터 표준화"
      ],
      "metadata": {
        "id": "smxPj4beZA_9"
      },
      "execution_count": null,
      "outputs": []
    },
    {
      "cell_type": "code",
      "source": [
        "# 7. 훈련데이터와 타겟데이터 구분하고 훈련용, 테스트용 분리하기"
      ],
      "metadata": {
        "id": "BP8tCVt_ZEEa"
      },
      "execution_count": null,
      "outputs": []
    },
    {
      "cell_type": "code",
      "source": [
        "# 8. 선형회귀 모델 학습 및 평가"
      ],
      "metadata": {
        "id": "KSibgodMZGP3"
      },
      "execution_count": null,
      "outputs": []
    }
  ]
}