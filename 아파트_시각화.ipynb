{
  "nbformat": 4,
  "nbformat_minor": 0,
  "metadata": {
    "colab": {
      "provenance": [],
      "authorship_tag": "ABX9TyN2dgIzfgVRN9AItCiux0mm",
      "include_colab_link": true
    },
    "kernelspec": {
      "name": "python3",
      "display_name": "Python 3"
    },
    "language_info": {
      "name": "python"
    }
  },
  "cells": [
    {
      "cell_type": "markdown",
      "metadata": {
        "id": "view-in-github",
        "colab_type": "text"
      },
      "source": [
        "<a href=\"https://colab.research.google.com/github/chacha86/pythonai2/blob/main/%EC%95%84%ED%8C%8C%ED%8A%B8_%EC%8B%9C%EA%B0%81%ED%99%94.ipynb\" target=\"_parent\"><img src=\"https://colab.research.google.com/assets/colab-badge.svg\" alt=\"Open In Colab\"/></a>"
      ]
    },
    {
      "cell_type": "code",
      "execution_count": null,
      "metadata": {
        "id": "xu0QFRW6yzSE"
      },
      "outputs": [],
      "source": [
        "# 지역별 평당 분양가격 막대그래프\n",
        "# 연도별 평당 분양가격 막대그래프\n",
        "# 연도별 평당 분양가격 선그래프( 지역별로 다르게 표시 )\n",
        "# 연도별 평당 분양가격 박스플롯(전용 면적별로 다르게 표시)\n",
        "# 평당 분양가격의 분포 히스토그램"
      ]
    }
  ]
}