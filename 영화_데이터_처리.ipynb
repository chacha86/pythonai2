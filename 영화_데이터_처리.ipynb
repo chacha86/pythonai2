{
  "nbformat": 4,
  "nbformat_minor": 0,
  "metadata": {
    "colab": {
      "provenance": [],
      "authorship_tag": "ABX9TyOOX/dLHjhMmeUD7kszsWPs",
      "include_colab_link": true
    },
    "kernelspec": {
      "name": "python3",
      "display_name": "Python 3"
    },
    "language_info": {
      "name": "python"
    }
  },
  "cells": [
    {
      "cell_type": "markdown",
      "metadata": {
        "id": "view-in-github",
        "colab_type": "text"
      },
      "source": [
        "<a href=\"https://colab.research.google.com/github/chacha86/pythonai2/blob/main/%EC%98%81%ED%99%94_%EB%8D%B0%EC%9D%B4%ED%84%B0_%EC%B2%98%EB%A6%AC.ipynb\" target=\"_parent\"><img src=\"https://colab.research.google.com/assets/colab-badge.svg\" alt=\"Open In Colab\"/></a>"
      ]
    },
    {
      "cell_type": "code",
      "execution_count": 68,
      "metadata": {
        "id": "OEAk_uL0Nukg"
      },
      "outputs": [],
      "source": [
        "import pandas as pd\n",
        "\n",
        "movie = pd.read_excel('/content/movie2.xlsx')"
      ]
    },
    {
      "cell_type": "code",
      "source": [
        "movie.columns"
      ],
      "metadata": {
        "id": "J2UkiGFuN4Wy"
      },
      "execution_count": null,
      "outputs": []
    },
    {
      "cell_type": "code",
      "source": [
        "## 결측치 처리1\n",
        "\n",
        "movie2 = movie.drop(movie.columns[movie.isna().sum() >= 1000].values, axis=1)"
      ],
      "metadata": {
        "id": "CUV83nlfN4ko"
      },
      "execution_count": 69,
      "outputs": []
    },
    {
      "cell_type": "code",
      "source": [
        "## 오기입 데이터 처리\n",
        "idx = movie2[['10대_비율', '20대_비율', '30대_비율', '40대_비율',\n",
        "       '50대_비율']].sum(axis=1) != 0\n",
        "\n",
        "movie3 = movie2.loc[idx]"
      ],
      "metadata": {
        "id": "UqhXBlmOP6JY"
      },
      "execution_count": 70,
      "outputs": []
    },
    {
      "cell_type": "code",
      "source": [
        "movie3.info()\n",
        "movie3.columns"
      ],
      "metadata": {
        "id": "QgNiJ2-fRdRu"
      },
      "execution_count": null,
      "outputs": []
    },
    {
      "cell_type": "code",
      "source": [
        "## 결측치 처리2\n",
        "## OST ~ 연출 => drop\n",
        "movie4 = movie3.dropna()\n"
      ],
      "metadata": {
        "id": "5G06aCJyRsFs"
      },
      "execution_count": 71,
      "outputs": []
    },
    {
      "cell_type": "code",
      "source": [
        "## OST ~ 연출 => impute\n",
        "list1 = ['OST', '영상미', '스토리', '연기', '연출']\n",
        "\n",
        "for col in list1 :\n",
        "  col_mean = movie3[col].loc[movie3[col].notna()].mean()\n",
        "  movie3[col].fillna(col_mean, inplace=True)\n"
      ],
      "metadata": {
        "id": "-ZPvOQNvTpLc"
      },
      "execution_count": null,
      "outputs": []
    },
    {
      "cell_type": "code",
      "source": [
        "movie5 = movie3.dropna()"
      ],
      "metadata": {
        "id": "al0UAzrMTVbP"
      },
      "execution_count": 73,
      "outputs": []
    },
    {
      "cell_type": "code",
      "source": [
        "movie4 # 결측치 다 드롭\n",
        "movie5 # impute"
      ],
      "metadata": {
        "id": "0b0J-AW1TWZH"
      },
      "execution_count": null,
      "outputs": []
    },
    {
      "cell_type": "code",
      "source": [
        "movie4.info()"
      ],
      "metadata": {
        "id": "TiMUnuCNTrrV"
      },
      "execution_count": null,
      "outputs": []
    },
    {
      "cell_type": "code",
      "source": [
        "# 관객수 처리\n",
        "movie4_tmp = movie4['관객수_x'].str.replace('명', '').str.replace(',', '')\n",
        "\n",
        "movie4_tmp2 = movie4_tmp.loc[movie4_tmp.str.contains('만')].str.replace('만', '').astype('float') * 10000\n",
        "\n",
        "movie4_tmp2.index\n",
        "\n",
        "movie4_tmp.loc[movie4_tmp2.index] = movie4_tmp2\n",
        "\n"
      ],
      "metadata": {
        "id": "j6FCRixeURyL"
      },
      "execution_count": 95,
      "outputs": []
    },
    {
      "cell_type": "code",
      "source": [
        "movie4['관객수'] = movie4_tmp.astype('float')"
      ],
      "metadata": {
        "id": "_a0pS3JdVgQR"
      },
      "execution_count": null,
      "outputs": []
    },
    {
      "cell_type": "code",
      "source": [
        "movie4_2 = movie4.drop('관객수_x', axis=1)"
      ],
      "metadata": {
        "id": "nqGEn9WWVsmB"
      },
      "execution_count": 102,
      "outputs": []
    },
    {
      "cell_type": "code",
      "source": [
        "target = movie4_2['관객수']"
      ],
      "metadata": {
        "id": "iy5gp5nHV7q_"
      },
      "execution_count": 104,
      "outputs": []
    },
    {
      "cell_type": "code",
      "source": [
        "## 데이터 전처리\n",
        "### 범주 -> 인코딩\n",
        "\n",
        "### 제목 -> 제외\n",
        "\n",
        "### 개봉 -> 방학시즌,\n",
        "### 개봉 시즌 -> 계절\n",
        "### 등급 -> 원핫\n",
        "### 장르 -> 한 영화에 장르가 중첩 -> 처리해서 사용\n",
        "### 국가 -> 사용\n",
        "### 러닝타임 -> 수치로 바꿔서 사용\n",
        "### 배급사 -> 빈도수 많은 거 위주로 사용\n",
        "### 참여수 -> 제외. 나중에 고려\n",
        "### 감독 -> 타겟 인코딩, 레이블 인코딩\n",
        "\n",
        "movie4_2['감독'].value_counts()\n",
        "\n",
        "### 관객수와 참여수 비례"
      ],
      "metadata": {
        "id": "Rlr2zxEDV_2m"
      },
      "execution_count": null,
      "outputs": []
    },
    {
      "cell_type": "code",
      "source": [
        "### 개봉 시즌 -> 4계절로 바꾸기\n",
        "### 등급 -> 원핫\n",
        "### 장르 -> 한 영화에 장르가 중첩 -> 처리해서 사용. 가장 앞에 있는 장르만 사용\n",
        "### 국가 -> 사용 -> 빈독수 5개 미만은 기타 국가\n",
        "### 러닝타임 -> 수치로 바꿔서 사용 -> 분 제거하고 astype\n",
        "### 배급사 -> 빈도수 많은 거 위주로 사용 -> 국가와 비슷하게 해결\n",
        "### 참여수 -> 제외. 나중에 고려 -> drop\n",
        "### 감독 -> 타겟 인코딩, 레이블 인코딩 -> 타겟인코딩"
      ],
      "metadata": {
        "id": "bCAxFuPTfFGo"
      },
      "execution_count": null,
      "outputs": []
    }
  ]
}