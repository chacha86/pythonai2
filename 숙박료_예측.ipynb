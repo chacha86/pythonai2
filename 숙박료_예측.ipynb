{
  "nbformat": 4,
  "nbformat_minor": 0,
  "metadata": {
    "colab": {
      "provenance": [],
      "authorship_tag": "ABX9TyPQeOFbcqDzsWP/IyM/Om1b",
      "include_colab_link": true
    },
    "kernelspec": {
      "name": "python3",
      "display_name": "Python 3"
    },
    "language_info": {
      "name": "python"
    }
  },
  "cells": [
    {
      "cell_type": "markdown",
      "metadata": {
        "id": "view-in-github",
        "colab_type": "text"
      },
      "source": [
        "<a href=\"https://colab.research.google.com/github/chacha86/pythonai2/blob/main/%EC%88%99%EB%B0%95%EB%A3%8C_%EC%98%88%EC%B8%A1.ipynb\" target=\"_parent\"><img src=\"https://colab.research.google.com/assets/colab-badge.svg\" alt=\"Open In Colab\"/></a>"
      ]
    },
    {
      "cell_type": "code",
      "execution_count": 145,
      "metadata": {
        "id": "Hic85cCVuhgK",
        "outputId": "aeee4f6b-0e3b-43ca-b6f2-245e875ebd1d",
        "colab": {
          "base_uri": "https://localhost:8080/"
        }
      },
      "outputs": [
        {
          "output_type": "stream",
          "name": "stdout",
          "text": [
            "<class 'pandas.core.frame.DataFrame'>\n",
            "RangeIndex: 48895 entries, 0 to 48894\n",
            "Data columns (total 16 columns):\n",
            " #   Column                          Non-Null Count  Dtype  \n",
            "---  ------                          --------------  -----  \n",
            " 0   id                              48895 non-null  int64  \n",
            " 1   name                            48879 non-null  object \n",
            " 2   host_id                         48895 non-null  int64  \n",
            " 3   host_name                       48874 non-null  object \n",
            " 4   neighbourhood_group             48895 non-null  object \n",
            " 5   neighbourhood                   48895 non-null  object \n",
            " 6   latitude                        48895 non-null  float64\n",
            " 7   longitude                       48895 non-null  float64\n",
            " 8   room_type                       48895 non-null  object \n",
            " 9   price                           48895 non-null  int64  \n",
            " 10  minimum_nights                  48895 non-null  int64  \n",
            " 11  number_of_reviews               48895 non-null  int64  \n",
            " 12  last_review                     38843 non-null  object \n",
            " 13  reviews_per_month               38843 non-null  float64\n",
            " 14  calculated_host_listings_count  48895 non-null  int64  \n",
            " 15  availability_365                48895 non-null  int64  \n",
            "dtypes: float64(3), int64(7), object(6)\n",
            "memory usage: 6.0+ MB\n"
          ]
        }
      ],
      "source": [
        "# 데이터 설명\n",
        "# id: 일련번호\n",
        "# name: AirBnB 이름\n",
        "# host_id: 호스트 ID\n",
        "# host_name: 호스트 성명\n",
        "# neighbourhood_group: 지구명\n",
        "# neighbourhood : 지역명\n",
        "# latitude: 위도\n",
        "# longitude: 경도\n",
        "# room_type: 방 타입\n",
        "# price: 가격\n",
        "# minimum_nights: 최소 숙박일수\n",
        "# number_of_reviews: 리뷰 개수\n",
        "# last_review: 최근 리뷰 일자\n",
        "# reviews_per_month: 월 평균 리뷰 수\n",
        "# calculated_host_listings_count:  호스트에게 대여 가능한 에어비앤비의 총 개수\n",
        "# availability_365: 1년 중 가능한 대여일\n",
        "\n",
        "\n",
        "# 1. 데이터 로드\n",
        "import pandas as pd\n",
        "\n",
        "df = pd.read_csv('/content/AB_NYC_2019.csv')\n",
        "df.info()\n"
      ]
    },
    {
      "cell_type": "code",
      "source": [
        "# 2. 수치형데이터와 price 상관관계\n",
        "df.corr()['price']\n"
      ],
      "metadata": {
        "id": "-gVXE2MswqOi",
        "outputId": "c282b0e3-8831-4687-d46f-863d248b8f0f",
        "colab": {
          "base_uri": "https://localhost:8080/"
        }
      },
      "execution_count": 146,
      "outputs": [
        {
          "output_type": "stream",
          "name": "stderr",
          "text": [
            "<ipython-input-146-cd243a88ae4f>:2: FutureWarning: The default value of numeric_only in DataFrame.corr is deprecated. In a future version, it will default to False. Select only valid columns or specify the value of numeric_only to silence this warning.\n",
            "  df.corr()['price']\n"
          ]
        },
        {
          "output_type": "execute_result",
          "data": {
            "text/plain": [
              "id                                0.010619\n",
              "host_id                           0.015309\n",
              "latitude                          0.033939\n",
              "longitude                        -0.150019\n",
              "price                             1.000000\n",
              "minimum_nights                    0.042799\n",
              "number_of_reviews                -0.047954\n",
              "reviews_per_month                -0.030608\n",
              "calculated_host_listings_count    0.057472\n",
              "availability_365                  0.081829\n",
              "Name: price, dtype: float64"
            ]
          },
          "metadata": {},
          "execution_count": 146
        }
      ]
    },
    {
      "cell_type": "code",
      "source": [
        "\n",
        "# 3. 범주형 데이터의 price 상관관계\n",
        "## 범주와 수치와 관계 => 막대, 박스\n",
        "## 수치와 수치 => 산점도, 선\n",
        "\n",
        "df['neighbourhood_group']\n",
        "\n",
        "### 막대그래프/박스 플롯 -> 범주, 수치\n",
        "df['neighbourhood_group'].unique().size\n",
        "\n",
        "\n",
        "### 지구별 평균 숙박료 가격\n",
        "price_per_ngroup = df.groupby('neighbourhood_group')['price'].mean()\n",
        "\n",
        "import matplotlib.pyplot as plt\n",
        "import seaborn as sns\n",
        "\n",
        "## 막대그래프를 그려서 지구별로 평균 숙박료가 올라가거나 내려가는 것을 확인(지구가 숙박료에 영향을 미친다고 생각할 수 있음)\n",
        "sns.barplot(x=price_per_ngroup.index, y=price_per_ngroup.values, order=price_per_ngroup.sort_values().index)\n"
      ],
      "metadata": {
        "id": "N8zVmV-92um2",
        "outputId": "29a868b0-b6e0-4668-c011-f0b9437bb91c",
        "colab": {
          "base_uri": "https://localhost:8080/",
          "height": 468
        }
      },
      "execution_count": 147,
      "outputs": [
        {
          "output_type": "execute_result",
          "data": {
            "text/plain": [
              "<Axes: xlabel='neighbourhood_group'>"
            ]
          },
          "metadata": {},
          "execution_count": 147
        },
        {
          "output_type": "display_data",
          "data": {
            "text/plain": [
              "<Figure size 640x480 with 1 Axes>"
            ],
            "image/png": "[encoded data removed]"
          },
          "metadata": {}
        }
      ]
    },
    {
      "cell_type": "code",
      "source": [
        "### 범주가 너무 많아서 인코딩하기 힘든 컬럼(특성)을 처리하는 방법은 없을까?\n",
        "counts = df['name'].value_counts()\n",
        "idx = counts > 5\n",
        "\n",
        "### 방법1. 샘플의 개수를 이용해 범주를 통합\n",
        "### 예시) 30개 미만으로 언급되는 샘플들은 하나의 범주로 통합(etc, others 등)\n",
        "\n",
        "### 방법2. 데이터의 성격을 이용해 범주를 통합\n",
        "### 예시) 날짜의 경우 년-월-일에서 년-월로 값을 바꿔주면 날짜의 의미를 유지하면서도 범주가 많이 통합 된다.\n",
        "\n",
        "use_names = counts[idx].index.values\n",
        "use_names\n",
        "\n",
        "def check_5times(name) :\n",
        "  if name in use_names :\n",
        "    return name\n",
        "  return 'etc'\n",
        "\n",
        "df['name'] = df['name'].map(check_5times)"
      ],
      "metadata": {
        "id": "PhDz2IAlxIWy"
      },
      "execution_count": 148,
      "outputs": []
    },
    {
      "cell_type": "code",
      "source": [
        "## 몇개 이상?? -> 통계적으로 의미를 가지려면 최소 30 ~ 50개\n",
        "\n",
        "## host_name, neighbourhood, last_review 범주의 수를 최대한 줄여보세요.\n",
        "values = df['host_name'].value_counts()\n",
        "\n",
        "x = list(range(values.size))\n",
        "y = values\n",
        "\n",
        "# sns.lineplot(x=x, y=y)\n",
        "# plt.xlim(0, 200)\n",
        "\n",
        "\n",
        "# train_cate['neighbourhood'].value_counts()\n",
        "# train_cate['last_review'].value_counts()\n",
        "\n",
        "idx = values >= 40\n",
        "\n",
        "use_host_names = values[idx].index.values\n",
        "\n",
        "def hname_5_times(hname):\n",
        "  if hname in use_host_names :\n",
        "    return hname\n",
        "  return 'etc'\n",
        "\n",
        "df['host_name'] = df['host_name'].map(hname_5_times)"
      ],
      "metadata": {
        "id": "2P6BgoQ4AHZ2"
      },
      "execution_count": 149,
      "outputs": []
    },
    {
      "cell_type": "code",
      "source": [
        "##  neighbourhood 범주 통합\n",
        "values = df['neighbourhood'].value_counts()\n",
        "\n",
        "x = list(range(values.size))\n",
        "y = values\n",
        "\n",
        "# train_cate['neighbourhood'].value_counts()\n",
        "# train_cate['last_review'].value_counts()\n",
        "\n",
        "idx = values >= 500\n",
        "\n",
        "use_neighbourshood = values[idx].index.values\n",
        "\n",
        "def check_neighbour(neighbourhood):\n",
        "  if neighbourhood in use_neighbourshood :\n",
        "    return neighbourhood\n",
        "  return 'etc'\n",
        "\n",
        "df['neighbourhood'] = df['neighbourhood'].map(check_neighbour)"
      ],
      "metadata": {
        "id": "EI9XzTuMiX4_"
      },
      "execution_count": 150,
      "outputs": []
    },
    {
      "cell_type": "code",
      "source": [
        "##  last_review 범주 통합\n",
        "ddf = df.dropna(subset='last_review')\n",
        "ddf['last_review'] = ddf['last_review'].str[:7]\n",
        "# df.info()"
      ],
      "metadata": {
        "id": "ZfitHgHujOID",
        "outputId": "f64f6d56-49fb-4cd1-8166-9f32a1bb0113",
        "colab": {
          "base_uri": "https://localhost:8080/"
        }
      },
      "execution_count": 151,
      "outputs": [
        {
          "output_type": "stream",
          "name": "stderr",
          "text": [
            "<ipython-input-151-df4d69f36102>:3: SettingWithCopyWarning: \n",
            "A value is trying to be set on a copy of a slice from a DataFrame.\n",
            "Try using .loc[row_indexer,col_indexer] = value instead\n",
            "\n",
            "See the caveats in the documentation: https://pandas.pydata.org/pandas-docs/stable/user_guide/indexing.html#returning-a-view-versus-a-copy\n",
            "  ddf['last_review'] = ddf['last_review'].str[:7]\n"
          ]
        }
      ]
    },
    {
      "cell_type": "code",
      "source": [
        "# 4. 불필요해 보이는 컬럼 삭제\n",
        "df2 = ddf.drop(['id', 'host_id'], axis=1)"
      ],
      "metadata": {
        "id": "OM7UOqlxkENk"
      },
      "execution_count": 152,
      "outputs": []
    },
    {
      "cell_type": "code",
      "source": [
        "# 5.데이터 클리닝\n",
        "## 이상치 제거\n",
        "### IQR 사용\n",
        "\n",
        "# EDA\n",
        "## 이상치 존재 여부 확인 및 처리 -> IQR 방식으로\n",
        "##   -> IQR로 계산된 상한선과 하한선을 벗어난 데이터를 이상치로 처리하는 방법\n",
        "\n",
        "Q1 = df2.quantile(0.25) # 1분위 값\n",
        "Q3 = df2.quantile(0.75) # 3분위 값\n",
        "\n",
        "IQR = Q3 - Q1 # IQR 계산\n",
        "\n",
        "highest = Q3 + IQR * 1.5 # 상한선 계산\n",
        "lowest = Q1 - IQR * 1.5 # 하한선 계산\n",
        "\n",
        "## 로우의 이상치 여부 판별 함수\n",
        "def is_not_outlier(row) :\n",
        "  if row.sum() > 0 : # 이상치\n",
        "    return False\n",
        "  else : # 정상\n",
        "    return True\n",
        "\n",
        "tmp_df = (df2 > highest) | (df2 < lowest) # 데이터프레임의 값을 이상치 여부로 변환. (이상치는 False, 정상은 True)\n",
        "\n",
        "normal_idx = tmp_df.apply(is_not_outlier, axis=1) # 이상치 여부 판별 함수를 적용하여 정상 데이터의 논리 인덱스만 걸러냄\n",
        "\n",
        "df3 = df2.loc[normal_idx] # 논리 인덱싱을 이용해 정상 데이터만 추출"
      ],
      "metadata": {
        "id": "8oZtQ5tQNQ3f",
        "outputId": "5ace3af8-d980-4e4b-ca58-e2fb6ea731d4",
        "colab": {
          "base_uri": "https://localhost:8080/"
        }
      },
      "execution_count": 153,
      "outputs": [
        {
          "output_type": "stream",
          "name": "stderr",
          "text": [
            "<ipython-input-153-dc1606a53822>:9: FutureWarning: The default value of numeric_only in DataFrame.quantile is deprecated. In a future version, it will default to False. Select only valid columns or specify the value of numeric_only to silence this warning.\n",
            "  Q1 = df2.quantile(0.25) # 1분위 값\n",
            "<ipython-input-153-dc1606a53822>:10: FutureWarning: The default value of numeric_only in DataFrame.quantile is deprecated. In a future version, it will default to False. Select only valid columns or specify the value of numeric_only to silence this warning.\n",
            "  Q3 = df2.quantile(0.75) # 3분위 값\n",
            "<ipython-input-153-dc1606a53822>:24: FutureWarning: Automatic reindexing on DataFrame vs Series comparisons is deprecated and will raise ValueError in a future version. Do `left, right = left.align(right, axis=1, copy=False)` before e.g. `left == right`\n",
            "  tmp_df = (df2 > highest) | (df2 < lowest) # 데이터프레임의 값을 이상치 여부로 변환. (이상치는 False, 정상은 True)\n"
          ]
        }
      ]
    },
    {
      "cell_type": "code",
      "source": [
        "## 결측치 제거\n",
        "df4 = df3.dropna()"
      ],
      "metadata": {
        "id": "WzOBDX-ONfG6"
      },
      "execution_count": 154,
      "outputs": []
    },
    {
      "cell_type": "code",
      "source": [
        "# 6. 데이터 전처리\n",
        "## 범주형 데이터 ont-hot 인코딩\n",
        "## 수치형 데이터 표준화\n",
        "\n",
        "### 문자형 숫자형 나누기\n",
        "train_cate = df4.select_dtypes(include=['object'])\n",
        "train_num = df4.select_dtypes(include=['int64', 'float64']).drop('price', axis=1)\n",
        "target = df4['price']\n",
        "\n",
        "train_cate_1hot = pd.get_dummies(train_cate)\n",
        "train_cate_1hot.shape\n"
      ],
      "metadata": {
        "id": "XXdeJFp0Nxac",
        "outputId": "7eecf085-0338-448c-c2a1-4494eb39ed28",
        "colab": {
          "base_uri": "https://localhost:8080/"
        }
      },
      "execution_count": 155,
      "outputs": [
        {
          "output_type": "execute_result",
          "data": {
            "text/plain": [
              "(23459, 324)"
            ]
          },
          "metadata": {},
          "execution_count": 155
        }
      ]
    },
    {
      "cell_type": "code",
      "source": [
        "### 다항회귀를 위한 피처 엔지니어링\n",
        "from sklearn.preprocessing import PolynomialFeatures\n",
        "\n",
        "poly = PolynomialFeatures(degree=2)\n",
        "poly.fit(train_num)\n",
        "p_train_num = poly.transform(train_num)\n",
        "p_train_num_df = pd.DataFrame(p_train_num, columns=poly.get_feature_names_out())\n",
        "p_train_num_df\n",
        "train_cate_1hot_df = train_cate_1hot.reset_index(drop=True)\n",
        "train = pd.concat([p_train_num_df, train_cate_1hot_df], axis=1)"
      ],
      "metadata": {
        "id": "USRe9cXpPrKm"
      },
      "execution_count": 189,
      "outputs": []
    },
    {
      "cell_type": "code",
      "source": [
        "# 7. 훈련데이터와 타겟데이터 구분하고 훈련용, 테스트용 분리하기\n",
        "from sklearn.model_selection import train_test_split\n",
        "\n",
        "trd, tsd, trt, tst = train_test_split(train, target, train_size=0.8, random_state=42)\n"
      ],
      "metadata": {
        "id": "QA9kFmI39Wu4"
      },
      "execution_count": 190,
      "outputs": []
    },
    {
      "cell_type": "code",
      "source": [
        "\n",
        "# 8. 선형회귀 모델 학습 및 평가\n",
        "from sklearn.linear_model import LinearRegression\n",
        "\n",
        "lr = LinearRegression()\n",
        "lr.fit(trd, trt)\n",
        "\n",
        "lr.score(trd, trt), lr.score(tsd, tst)\n"
      ],
      "metadata": {
        "colab": {
          "base_uri": "https://localhost:8080/"
        },
        "id": "GIJbg-Ydwk8V",
        "outputId": "7f258c79-3d7b-4327-eceb-377054c4fa58"
      },
      "execution_count": 191,
      "outputs": [
        {
          "output_type": "execute_result",
          "data": {
            "text/plain": [
              "(0.5515777652093949, 0.5286076704645833)"
            ]
          },
          "metadata": {},
          "execution_count": 191
        }
      ]
    },
    {
      "cell_type": "code",
      "source": [
        "# 9. 교차 검증\n",
        "from sklearn.model_selection import cross_val_score\n",
        "\n",
        "scores = cross_val_score(lr, train, target, cv=5)\n",
        "scores\n"
      ],
      "metadata": {
        "id": "AI7HndFGcaLP",
        "outputId": "d76112e0-b3e2-4d38-e8fb-3e461a5cb153",
        "colab": {
          "base_uri": "https://localhost:8080/"
        }
      },
      "execution_count": 192,
      "outputs": [
        {
          "output_type": "execute_result",
          "data": {
            "text/plain": [
              "array([0.47848866, 0.54478246, 0.52194898, 0.51782436, 0.54930775])"
            ]
          },
          "metadata": {},
          "execution_count": 192
        }
      ]
    },
    {
      "cell_type": "code",
      "source": [],
      "metadata": {
        "id": "z0M0c02MlFBF"
      },
      "execution_count": null,
      "outputs": []
    }
  ]
}