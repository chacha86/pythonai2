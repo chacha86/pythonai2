{
  "nbformat": 4,
  "nbformat_minor": 0,
  "metadata": {
    "colab": {
      "provenance": [],
      "authorship_tag": "ABX9TyPQAaqEXKTd+aCjj1oPIIrT",
      "include_colab_link": true
    },
    "kernelspec": {
      "name": "python3",
      "display_name": "Python 3"
    },
    "language_info": {
      "name": "python"
    }
  },
  "cells": [
    {
      "cell_type": "markdown",
      "metadata": {
        "id": "view-in-github",
        "colab_type": "text"
      },
      "source": [
        "<a href=\"https://colab.research.google.com/github/chacha86/pythonai2/blob/main/%ED%85%8D%EC%8A%A4%ED%8A%B8_%EB%B6%84%EC%84%9D.ipynb\" target=\"_parent\"><img src=\"https://colab.research.google.com/assets/colab-badge.svg\" alt=\"Open In Colab\"/></a>"
      ]
    },
    {
      "cell_type": "code",
      "execution_count": null,
      "metadata": {
        "id": "d99PBIcL7O4s"
      },
      "outputs": [],
      "source": [
        "## 비정형 데이터 - 텍스트 데이터, 이미지 데이터 -> 빅데이터\n",
        "## 비정형 데이터를 잘 처리할 수 있는 기술 -> 머신러닝/딥러닝\n",
        "\n",
        "### 의미를 가진 최소 단위 -> 형태소\n",
        "\n",
        "### 형태소가 나열 ->\n",
        "### 형태소의 빈도수 -> 빈도수가 많은 것을 중요하게 생각. 빈도수를 수치화 -> 패턴 -> 학습\n",
        "#### BOW(Bag Of Words) -> 장점 : 간단하다. 편리하다. 직관적이다. 단점 : 빈도수만 가지고 체크하기 때문에 단어와 단어의 관계 X\n",
        "#### 문장 해석, 채팅 적합 X\n",
        "#### 감성 분석, 분류 적합 O\n",
        "\n",
        "### word2vec -> 딥러닝 사용해야 함.\n"
      ]
    },
    {
      "cell_type": "code",
      "source": [
        "!pip install konlpy"
      ],
      "metadata": {
        "id": "0EX90Z_8-MJa"
      },
      "execution_count": null,
      "outputs": []
    },
    {
      "cell_type": "code",
      "source": [
        "from konlpy.tag import Okt\n",
        "\n",
        "okt = Okt()\n",
        "\n",
        "okt.morphs(u'단독입찰보다 복수입찰의 경우')\n",
        "\n",
        "\n",
        "string = \"안녕하세요 저는 홍길동입니다. 만나서 반가워요. 저 홍길동은 대전에서 삽니다. 대전은 참 살기 좋아요. 그리고 저 홍길동은 떡볶이를 참 좋아합니다. 대전에 떡볶이집 맛집을 알려드릴게요.\"\n",
        "\n",
        "okt.morphs(string)\n",
        "\n",
        "\n",
        "\n",
        "# 텍스트 클렌징\n",
        "## 1. stop_word 제거\n",
        "## 2. 특수 기호 제거\n",
        "string2 = filter_string(string)\n",
        "\n",
        "string2\n",
        "\n",
        "word_list = okt.morphs(string2)\n",
        "\n",
        "result = []\n",
        "for word in word_list :\n",
        "  if word not in stop_words :\n",
        "    result.append(word)\n",
        "\n",
        "result\n"
      ],
      "metadata": {
        "id": "fN01-cZH_GHD"
      },
      "execution_count": null,
      "outputs": []
    },
    {
      "cell_type": "code",
      "source": [
        "word_list = okt.nouns(string2)\n",
        "\n",
        "result = []\n",
        "for word in word_list :\n",
        "  if word not in stop_words :\n",
        "    result.append(word)\n",
        "\n",
        "result"
      ],
      "metadata": {
        "id": "F34QzbsaCqN5"
      },
      "execution_count": null,
      "outputs": []
    },
    {
      "cell_type": "code",
      "source": [
        "# 각 단어의 빈도수 구하기\n",
        "\n",
        "word_count = {}\n",
        "\n",
        "for word in result :\n",
        "  if word in word_count :\n",
        "    word_count[word] += 1\n",
        "  else :\n",
        "    word_count[word] = 1\n",
        "\n",
        "\n",
        "word_count"
      ],
      "metadata": {
        "colab": {
          "base_uri": "https://localhost:8080/"
        },
        "id": "SAgK29mTBlNv",
        "outputId": "c9314e0f-b175-49dc-f691-aa19385477be"
      },
      "execution_count": 25,
      "outputs": [
        {
          "output_type": "execute_result",
          "data": {
            "text/plain": [
              "{'홍길동': 3, '대전': 3, '살기': 1, '떡볶이': 2, '집': 1, '맛집': 1}"
            ]
          },
          "metadata": {},
          "execution_count": 25
        }
      ]
    },
    {
      "cell_type": "code",
      "source": [
        "import re\n",
        "\n",
        "def filter_string(s):\n",
        "    return ''.join(re.findall('[가-힣a-zA-Z0-9\\s]', s))\n",
        "\n",
        "input_str = \"안녕하세요! Hello, 12345!@#$%\"\n",
        "filtered_str = filter_string(input_str)\n",
        "print(filtered_str)  # 출력: 안녕하세요Hello12345"
      ],
      "metadata": {
        "colab": {
          "base_uri": "https://localhost:8080/"
        },
        "id": "8DYID0iuAscO",
        "outputId": "506d57c7-a5d1-4442-c08c-82f16f7dd7f5"
      },
      "execution_count": 6,
      "outputs": [
        {
          "output_type": "stream",
          "name": "stdout",
          "text": [
            "안녕하세요 Hello 12345\n"
          ]
        }
      ]
    },
    {
      "cell_type": "code",
      "source": [],
      "metadata": {
        "id": "s5a6Td9GA-Cp"
      },
      "execution_count": null,
      "outputs": []
    }
  ]
}