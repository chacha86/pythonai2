{
  "nbformat": 4,
  "nbformat_minor": 0,
  "metadata": {
    "colab": {
      "provenance": [],
      "authorship_tag": "ABX9TyO4Azt5gkwFLcch8OCD1Ksh",
      "include_colab_link": true
    },
    "kernelspec": {
      "name": "python3",
      "display_name": "Python 3"
    },
    "language_info": {
      "name": "python"
    }
  },
  "cells": [
    {
      "cell_type": "markdown",
      "metadata": {
        "id": "view-in-github",
        "colab_type": "text"
      },
      "source": [
        "<a href=\"https://colab.research.google.com/github/chacha86/pythonai2/blob/main/selenium_%EB%93%9C%EB%9D%BC%EC%9D%B4%EB%B2%84_%EC%96%BB%EA%B8%B0.ipynb\" target=\"_parent\"><img src=\"https://colab.research.google.com/assets/colab-badge.svg\" alt=\"Open In Colab\"/></a>"
      ]
    },
    {
      "cell_type": "code",
      "execution_count": null,
      "metadata": {
        "id": "-d6acuzFHcHu"
      },
      "outputs": [],
      "source": [
        "import selenium\n",
        "from selenium import webdriver\n",
        "from selenium.webdriver.common.by import By\n",
        "from selenium.webdriver.common.keys import Keys\n",
        "from selenium.webdriver.chrome.service import Service as ChromeService\n",
        "import time\n",
        "\n",
        "options = webdriver.ChromeOptions()\n",
        "options.add_experimental_option(\"excludeSwitches\", [\"enable-automation\"])\n",
        "options.add_experimental_option(\"useAutomationExtension\", False)\n",
        "options.add_argument('headless')\n",
        "service = ChromeService(executable_path='C:/Users/Administrator/jupyter notebook/chromedriver/chromedriver.exe')\n",
        "driver = webdriver.Chrome(service=service, options=options)"
      ]
    }
  ]
}