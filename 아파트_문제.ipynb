{
  "nbformat": 4,
  "nbformat_minor": 0,
  "metadata": {
    "colab": {
      "provenance": [],
      "authorship_tag": "ABX9TyMd4NUTtEsqWeKJAkwWxMIs",
      "include_colab_link": true
    },
    "kernelspec": {
      "name": "python3",
      "display_name": "Python 3"
    },
    "language_info": {
      "name": "python"
    }
  },
  "cells": [
    {
      "cell_type": "markdown",
      "metadata": {
        "id": "view-in-github",
        "colab_type": "text"
      },
      "source": [
        "<a href=\"https://colab.research.google.com/github/chacha86/pythonai2/blob/main/%EC%95%84%ED%8C%8C%ED%8A%B8_%EB%AC%B8%EC%A0%9C.ipynb\" target=\"_parent\"><img src=\"https://colab.research.google.com/assets/colab-badge.svg\" alt=\"Open In Colab\"/></a>"
      ]
    },
    {
      "cell_type": "code",
      "execution_count": null,
      "metadata": {
        "id": "BAdVHrSGyikq"
      },
      "outputs": [],
      "source": [
        "# 2017 ~ 2021 파일 로드해서 데이터프레임으로 저장\n",
        "\n",
        "# 상위 5개만 확인해보기\n",
        "\n",
        "# 하위 5개만 확인해보기\n",
        "\n",
        "# 상위 5개 확인\n",
        "\n",
        "# 하위 5개 확인\n",
        "\n",
        "# 기본 통계 정보 확인\n",
        "\n",
        "# 결측치 확인\n",
        "\n",
        "# 평당분양가격 구하기(1평 == 3.3 제곱미터)\n",
        "\n",
        "# 필요하다면 타입변환\n",
        "\n",
        "# 결측치 확인\n",
        "\n",
        "# 규모구분을 전용면적으로 바꾸고 데이터 용량 줄이기\n",
        "# ~60, 60 ~ 85, 85 ~ 102, 102~, 전체\n",
        "\n",
        "# 혹시라도 사용하지 않는 컬럼은 제거하고 사용하는 컬럼만 가져오기\n",
        "\n",
        "# 전용면적별 분양가격의 평균 구하기\n",
        "\n",
        "# 지역명, 전용면적별 평당분양가격의 평균 구하기\n",
        "\n",
        "# 연도, 지역별 평당분양가격의 평균 구하기"
      ]
    }
  ]
}