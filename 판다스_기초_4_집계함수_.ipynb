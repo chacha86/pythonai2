{
  "nbformat": 4,
  "nbformat_minor": 0,
  "metadata": {
    "colab": {
      "provenance": [],
      "authorship_tag": "ABX9TyN6sO2+igNeaZrtxkiccZvQ",
      "include_colab_link": true
    },
    "kernelspec": {
      "name": "python3",
      "display_name": "Python 3"
    },
    "language_info": {
      "name": "python"
    }
  },
  "cells": [
    {
      "cell_type": "markdown",
      "metadata": {
        "id": "view-in-github",
        "colab_type": "text"
      },
      "source": [
        "<a href=\"https://colab.research.google.com/github/chacha86/pythonai2/blob/main/%ED%8C%90%EB%8B%A4%EC%8A%A4_%EA%B8%B0%EC%B4%88_4_%EC%A7%91%EA%B3%84%ED%95%A8%EC%88%98_.ipynb\" target=\"_parent\"><img src=\"https://colab.research.google.com/assets/colab-badge.svg\" alt=\"Open In Colab\"/></a>"
      ]
    },
    {
      "cell_type": "code",
      "execution_count": 1,
      "metadata": {
        "id": "uC03J7mbwy6O"
      },
      "outputs": [],
      "source": [
        "import pandas as pd\n",
        "\n",
        "df = pd.read_excel('/content/거래내역조회 (3).xlsx', skiprows=3)"
      ]
    },
    {
      "cell_type": "code",
      "source": [
        "df2 = df.set_index('No.')\n",
        "df3 = df2.reset_index()\n",
        "df3.set_index('거래일시')\n",
        "\n"
      ],
      "metadata": {
        "id": "PaAAXYZHy9XH"
      },
      "execution_count": null,
      "outputs": []
    },
    {
      "cell_type": "code",
      "source": [
        "stu = pd.read_excel('/content/students (2).xlsx')\n",
        "\n",
        "## 10. 집계함수\n",
        "# 문제1. 학생들의 총점, 평균 구하기\n",
        "\n",
        "totals = []\n",
        "for i in range(100) :\n",
        "  row = stu.loc[i]\n",
        "\n",
        "  total = row['국어'] + row['수학'] + row['영어']\n",
        "  totals.append(total)\n",
        "\n",
        "\n",
        "stu['총점'] = totals\n"
      ],
      "metadata": {
        "id": "K_SolfSkzqFp"
      },
      "execution_count": null,
      "outputs": []
    },
    {
      "cell_type": "code",
      "source": [
        "# 문제1. 학생들의 총점, 평균 구하기(집계함수)\n",
        "\n",
        "## 시리즈 집계 함수 사용\n",
        "target = stu.loc[0][['국어', '영어', '수학']]\n",
        "\n",
        "target.sum() # 자신이 가진 모든 원소를 합\n",
        "target.mean() # 평균\n",
        "target.max() # 최대값\n",
        "target.min() # 최소값\n",
        "\n",
        "## 데이터프레임 집계 함수 사용\n",
        "### 1. 숫자만 추려서 사용해야 함\n",
        "### 2. 축(axis)를 잘 정해줘야 함\n",
        "stu.sum(axis=1)\n"
      ],
      "metadata": {
        "id": "4bK4ZYiU1UI3"
      },
      "execution_count": null,
      "outputs": []
    },
    {
      "cell_type": "code",
      "source": [
        "# 문제3. 학생들의 평균으로 석차를 내어 석차 순으로 오름차순.\n",
        "## 직접 구하기\n",
        "stu['평균'] = stu['총점'] / 3\n",
        "\n",
        "sorted_stu = stu.sort_values('평균', ascending=False)\n",
        "\n",
        "rank = range(1, 101)\n",
        "sorted_stu['석차'] = rank\n",
        "sorted_stu\n",
        "# stu[['국어', '수학', '영어']].mean(axis=1)\n"
      ],
      "metadata": {
        "id": "Bz7jO82f9wHY"
      },
      "execution_count": null,
      "outputs": []
    },
    {
      "cell_type": "code",
      "source": [
        "## rank 함수 이용\n",
        "stu['석차'] = stu['평균'].rank(method=\"min\", ascending=False)\n",
        "stu.sort_values('석차').head(10)\n"
      ],
      "metadata": {
        "id": "1uzW74Zf_h1S"
      },
      "execution_count": null,
      "outputs": []
    }
  ]
}