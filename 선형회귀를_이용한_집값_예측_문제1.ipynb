{
  "nbformat": 4,
  "nbformat_minor": 0,
  "metadata": {
    "colab": {
      "provenance": [],
      "authorship_tag": "ABX9TyO/BF2n++PtsX92aQL4Vlzw",
      "include_colab_link": true
    },
    "kernelspec": {
      "name": "python3",
      "display_name": "Python 3"
    },
    "language_info": {
      "name": "python"
    }
  },
  "cells": [
    {
      "cell_type": "markdown",
      "metadata": {
        "id": "view-in-github",
        "colab_type": "text"
      },
      "source": [
        "<a href=\"https://colab.research.google.com/github/chacha86/pythonai2/blob/main/%EC%84%A0%ED%98%95%ED%9A%8C%EA%B7%80%EB%A5%BC_%EC%9D%B4%EC%9A%A9%ED%95%9C_%EC%A7%91%EA%B0%92_%EC%98%88%EC%B8%A1_%EB%AC%B8%EC%A0%9C1.ipynb\" target=\"_parent\"><img src=\"https://colab.research.google.com/assets/colab-badge.svg\" alt=\"Open In Colab\"/></a>"
      ]
    },
    {
      "cell_type": "code",
      "execution_count": null,
      "metadata": {
        "id": "Z-Y_2-le6Vhc"
      },
      "outputs": [],
      "source": [
        "# 데이터 로드"
      ]
    },
    {
      "cell_type": "code",
      "source": [
        "# EDA\n",
        "## 결측치가 많거나 불필요한 컬럼은 걸러내 보자\n",
        "## 상관관계로 필요한거 솎아내보자\n",
        "## 이상치가 많아 보이는 컬럼은 체크해두자\n",
        "\n",
        "\n",
        "\n",
        "## 이상치 존재 여부 확인 -> IQR\n",
        "## 위경도를 이용한 산점도 그리기\n",
        "## 집값과 다른 변수의 상관관계 확인\n",
        "## 위도 경도를 이용해 산점도로 위치와 집값의 관계 시각적으로 확인\n"
      ],
      "metadata": {
        "id": "-QEY_2Pz6Wka"
      },
      "execution_count": null,
      "outputs": []
    },
    {
      "cell_type": "code",
      "source": [
        "# 데이터 전처리\n",
        "## 결측치 처리\n",
        "## 이상치 처리\n",
        "## 수치형 데이터\n",
        "### 표준화\n",
        "## 범주형 데이터\n",
        "### 원핫인코딩\n"
      ],
      "metadata": {
        "id": "b-4O9_IP6Wmd"
      },
      "execution_count": null,
      "outputs": []
    },
    {
      "cell_type": "code",
      "source": [
        "# 학습\n",
        "## 선형회귀를 이용하여 모델 학습\n"
      ],
      "metadata": {
        "id": "8k84Kj3C6Woh"
      },
      "execution_count": null,
      "outputs": []
    },
    {
      "cell_type": "code",
      "source": [
        "# 평가\n",
        "## 학습한 모델을 평가하기"
      ],
      "metadata": {
        "id": "unmGW5l37CCW"
      },
      "execution_count": null,
      "outputs": []
    }
  ]
}