{
  "nbformat": 4,
  "nbformat_minor": 0,
  "metadata": {
    "colab": {
      "provenance": [],
      "authorship_tag": "ABX9TyNKOxbL0/Nkso6K6PSgh2RS",
      "include_colab_link": true
    },
    "kernelspec": {
      "name": "python3",
      "display_name": "Python 3"
    },
    "language_info": {
      "name": "python"
    }
  },
  "cells": [
    {
      "cell_type": "markdown",
      "metadata": {
        "id": "view-in-github",
        "colab_type": "text"
      },
      "source": [
        "<a href=\"https://colab.research.google.com/github/chacha86/pythonai2/blob/main/%EC%85%80%EB%A0%88%EB%8B%88%EC%9B%80_%EC%8B%A4%EC%8A%B5_%EC%98%88%EC%A0%9C_%EB%84%A4%EC%9D%B4%EB%B2%84_%EB%9E%AD%ED%82%B9_%EB%89%B4%EC%8A%A4_%EC%A0%9C%EB%AA%A9%2C_%EB%A7%81%ED%81%AC_%EA%B0%80%EC%A0%B8%EC%98%A4%EA%B8%B0.ipynb\" target=\"_parent\"><img src=\"https://colab.research.google.com/assets/colab-badge.svg\" alt=\"Open In Colab\"/></a>"
      ]
    },
    {
      "cell_type": "code",
      "execution_count": null,
      "metadata": {
        "id": "PPviRBWba4Jw"
      },
      "outputs": [],
      "source": [
        "# 관련 패키지 설치\n",
        "!pip install selenium\n",
        "!pip install requests\n",
        "!pip install bs4"
      ]
    },
    {
      "cell_type": "code",
      "source": [
        "# 패키지 불러오기\n",
        "import requests\n",
        "import selenium\n",
        "from bs4 import BeautifulSoup"
      ],
      "metadata": {
        "id": "NDH8LvhJa_UX"
      },
      "execution_count": null,
      "outputs": []
    },
    {
      "cell_type": "code",
      "source": [
        "# 셀레니움 설정 및 테스트\n",
        "import selenium\n",
        "from selenium import webdriver\n",
        "from selenium.webdriver.common.by import By\n",
        "from selenium.webdriver.common.keys import Keys\n",
        "from selenium.webdriver.chrome.service import Service as ChromeService\n",
        "import time\n",
        "\n",
        "options = webdriver.ChromeOptions()\n",
        "options.add_experimental_option(\"excludeSwitches\", [\"enable-automation\"])\n",
        "options.add_experimental_option(\"useAutomationExtension\", False)\n",
        "# options.add_argument('headless')\n",
        "service = ChromeService(executable_path='C:/Users/Administrator/pythonai/driver/chromedriver.exe')\n",
        "driver = webdriver.Chrome(service=service, options=options)\n",
        "driver.get(\"http://www.python.org\")\n",
        "assert \"Python\" in driver.title\n",
        "elem = driver.find_element(By.NAME, \"q\")\n",
        "elem.clear()\n",
        "elem.send_keys(\"pycon\")\n",
        "elem.send_keys(Keys.RETURN)\n",
        "assert \"No results found.\" not in driver.page_source\n",
        "time.sleep(10)"
      ],
      "metadata": {
        "id": "fTmwPplubAu8"
      },
      "execution_count": null,
      "outputs": []
    },
    {
      "cell_type": "code",
      "source": [
        "# 셀레니움을 이용해서 네이버 랭킹 뉴스 제목 및 링크 가져오기 실습\n",
        "options = webdriver.ChromeOptions()\n",
        "options.add_experimental_option(\"excludeSwitches\", [\"enable-automation\"])\n",
        "options.add_experimental_option(\"useAutomationExtension\", False)\n",
        "# options.add_argument('headless')\n",
        "service = ChromeService(executable_path='C:/Users/Administrator/pythonai/driver/chromedriver.exe')\n",
        "driver = webdriver.Chrome(service=service, options=options)\n",
        "driver.get('https://news.naver.com/main/ranking/popularDay.naver')\n",
        "\n",
        "card_div = driver.find_element(By.CLASS_NAME, '_officeCard0')\n",
        "\n",
        "## elem.find_element() -> 하나만\n",
        "## 1. 태그이름으로 -> By.TAG_NAME\n",
        "## 2. 클래스 이름 -> By.CLASS_NAME\n",
        "## 3. 아이디 이름 -> By.ID\n",
        "\n",
        "## elem.find_elements()\n",
        "box = card_div.find_element(By.CLASS_NAME, 'rankingnews_box')\n",
        "aTag = box.find_element(By.TAG_NAME, 'a')\n",
        "aTag.click() # -> 클릭 페이지 전환\n",
        "\n",
        "# 페이지 전환 이후 다시 driver를 이용해서 탐색\n",
        "button = driver.find_element(By.CLASS_NAME, 'button_date_prev')\n",
        "# for i in range(5) :\n",
        "#     time.sleep(3)\n",
        "#     button.click()\n",
        "\n",
        "\n",
        "## 뉴스 제목, 링크\n",
        "first_li = driver.find_element(By.CLASS_NAME, 'as_thumb')\n",
        "aTag = first_li.find_element(By.TAG_NAME, 'a')\n",
        "\n",
        "## 텍스트\n",
        "aTag.text\n",
        "## 속성값\n",
        "aTag.get_attribute('href')\n",
        "\n",
        "title = first_li.find_element(By.CLASS_NAME, 'list_content').find_element(By.CLASS_NAME, 'list_title')\n",
        "title.text"
      ],
      "metadata": {
        "id": "cAGc36nobC1v"
      },
      "execution_count": null,
      "outputs": []
    }
  ]
}